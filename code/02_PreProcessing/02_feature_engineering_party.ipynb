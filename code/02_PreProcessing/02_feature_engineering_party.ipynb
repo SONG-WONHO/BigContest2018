{
 "cells": [
  {
   "cell_type": "code",
   "execution_count": 1,
   "metadata": {},
   "outputs": [],
   "source": [
    "# module 임포트\n",
    "import pandas as pd\n",
    "import numpy as np\n",
    "import matplotlib.pyplot as plt\n",
    "import seaborn as sns"
   ]
  },
  {
   "cell_type": "markdown",
   "metadata": {},
   "source": [
    "## 뼈대 !!"
   ]
  },
  {
   "cell_type": "code",
   "execution_count": 2,
   "metadata": {},
   "outputs": [],
   "source": [
    "train_acc_id = pd.read_csv('C:\\\\Users\\\\zeus_\\\\Desktop\\\\champion_data\\\\train\\\\train_activity_704.csv').acc_id\n",
    "test_acc_id = pd.read_csv('C:\\\\Users\\\\zeus_\\\\Desktop\\\\champion_data\\\\test\\\\test_activity_704.csv').acc_id"
   ]
  },
  {
   "cell_type": "code",
   "execution_count": 3,
   "metadata": {},
   "outputs": [],
   "source": [
    "#뼈대 만들기\n",
    "train_acc_id = train_acc_id.to_frame()\n",
    "test_acc_id = test_acc_id.to_frame()"
   ]
  },
  {
   "cell_type": "code",
   "execution_count": 4,
   "metadata": {},
   "outputs": [],
   "source": [
    "train_acc_id.index = train_acc_id['acc_id']\n",
    "test_acc_id.index = test_acc_id['acc_id']"
   ]
  },
  {
   "cell_type": "code",
   "execution_count": 5,
   "metadata": {},
   "outputs": [],
   "source": [
    "train_acc_id = train_acc_id.drop(['acc_id'], axis = 1)\n",
    "test_acc_id = test_acc_id.drop(['acc_id'], axis = 1)"
   ]
  },
  {
   "cell_type": "code",
   "execution_count": 10,
   "metadata": {},
   "outputs": [],
   "source": [
    "for i in range(1,9):\n",
    "    train_acc_id['party_cnt_' + str(i)] = 0\n",
    "    test_acc_id['party_cnt_' + str(i)] = 0"
   ]
  },
  {
   "cell_type": "code",
   "execution_count": 6,
   "metadata": {},
   "outputs": [],
   "source": [
    "# 파티 dataset 로딩\n",
    "train_party_load = pd.read_csv('C:\\\\Users\\\\zeus_\\\\Desktop\\\\champion_data\\\\train\\\\train_party.csv')\n",
    "test_party_load = pd.read_csv('C:\\\\Users\\\\zeus_\\\\Desktop\\\\champion_data\\\\test\\\\test_party.csv')"
   ]
  },
  {
   "cell_type": "code",
   "execution_count": 15,
   "metadata": {},
   "outputs": [],
   "source": [
    "train_party = train_party_load\n",
    "test_party = test_party_load"
   ]
  },
  {
   "cell_type": "code",
   "execution_count": 17,
   "metadata": {},
   "outputs": [],
   "source": [
    "for i in range(1,9):\n",
    "    for hashed in train_party[train_party['party_start_week'] == i].hashed:\n",
    "        for value in hashed.split(','):\n",
    "            try:\n",
    "                train_acc_id.loc[value, 'party_cnt_' + str(i)] += 1\n",
    "            except:\n",
    "                pass"
   ]
  },
  {
   "cell_type": "code",
   "execution_count": 19,
   "metadata": {},
   "outputs": [],
   "source": [
    "for i in range(1,9):\n",
    "    for hashed in test_party[test_party['party_start_week'] == i].hashed:\n",
    "        for value in hashed.split(','):\n",
    "            try:\n",
    "                test_acc_id.loc[value, 'party_cnt_' + str(i)] += 1\n",
    "            except:\n",
    "                pass"
   ]
  },
  {
   "cell_type": "code",
   "execution_count": 24,
   "metadata": {},
   "outputs": [],
   "source": [
    "train_acc_id['party_cnt'] = np.sum(train_acc_id.loc[:,'party_cnt_1':], axis=1)"
   ]
  },
  {
   "cell_type": "code",
   "execution_count": 22,
   "metadata": {},
   "outputs": [],
   "source": [
    "test_acc_id['party_cnt'] = np.sum(test_acc_id.loc[:,'party_cnt_1':], axis=1)"
   ]
  },
  {
   "cell_type": "code",
   "execution_count": 26,
   "metadata": {},
   "outputs": [],
   "source": [
    "train_acc_id.to_csv('C:\\\\Users\\\\zeus_\\\\Desktop\\\\champion_data\\\\train\\\\train_party_new.csv')\n",
    "test_acc_id.to_csv('C:\\\\Users\\\\zeus_\\\\Desktop\\\\champion_data\\\\test\\\\test_party_new.csv')"
   ]
  }
 ],
 "metadata": {
  "kernelspec": {
   "display_name": "Python 3",
   "language": "python",
   "name": "python3"
  },
  "language_info": {
   "codemirror_mode": {
    "name": "ipython",
    "version": 3
   },
   "file_extension": ".py",
   "mimetype": "text/x-python",
   "name": "python",
   "nbconvert_exporter": "python",
   "pygments_lexer": "ipython3",
   "version": "3.6.3"
  }
 },
 "nbformat": 4,
 "nbformat_minor": 2
}
