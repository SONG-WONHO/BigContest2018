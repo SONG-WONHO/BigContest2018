{
 "cells": [
  {
   "cell_type": "code",
   "execution_count": 2,
   "metadata": {},
   "outputs": [],
   "source": [
    "# module 임포트\n",
    "import pandas as pd\n",
    "import numpy as np\n",
    "import matplotlib.pyplot as plt\n",
    "import seaborn as sns\n",
    "\n",
    "from sklearn.ensemble import RandomForestClassifier\n",
    "from sklearn.model_selection import train_test_split\n",
    "from sklearn.metrics import confusion_matrix\n",
    "from sklearn.metrics import classification_report\n",
    "from sklearn.metrics import f1_score\n",
    "\n",
    "import copy"
   ]
  },
  {
   "cell_type": "code",
   "execution_count": 2,
   "metadata": {},
   "outputs": [],
   "source": [
    "# dataset 로딩\n",
    "x_train_load = pd.read_csv('C:\\\\Users\\\\zeus_\\\\Desktop\\\\champion_data\\\\train\\\\train_activity_new.csv').sort_values(by='acc_id', ascending=True)\n",
    "y_train_load = pd.read_csv('C://Users//zeus_//Desktop//champion_data//train/train_label.csv').sort_values(by='acc_id', ascending=True)\n",
    "x_test_load = pd.read_csv('C:\\\\Users\\\\zeus_\\\\Desktop\\\\champion_data\\\\test\\\\test_activity_new.csv').sort_values(by='acc_id', ascending=True)"
   ]
  },
  {
   "cell_type": "markdown",
   "metadata": {},
   "source": [
    "## 중요 피처 뽑는 함수\n",
    "- input: data_columns, feature_importances, num\n",
    "- output: list\n",
    "---"
   ]
  },
  {
   "cell_type": "code",
   "execution_count": 3,
   "metadata": {},
   "outputs": [],
   "source": [
    "def select_important_feautre(columns, feature_importance, num):\n",
    "    \n",
    "    #딕셔너리\n",
    "    dic = {}\n",
    "    for value in [list(v) for v in zip(columns, feature_importance)]:\n",
    "        dic[str(value[1])] = value[0] \n",
    "    \n",
    "    #피처 중요도\n",
    "    f_i = list(feature_importance)\n",
    "    f_i.sort(reverse=True)\n",
    "    \n",
    "    \n",
    "    #n개 뽑기\n",
    "    result = ['acc_id']\n",
    "    for i in range(0, num):\n",
    "        result.append(dic[str(f_i[i])])\n",
    "    \n",
    "    return result"
   ]
  },
  {
   "cell_type": "markdown",
   "metadata": {},
   "source": [
    "## 시작!\n",
    "---"
   ]
  },
  {
   "cell_type": "code",
   "execution_count": 4,
   "metadata": {},
   "outputs": [],
   "source": [
    "x_data = copy.deepcopy(x_train_load)\n",
    "y_data = copy.deepcopy(y_train_load)\n",
    "x_test = copy.deepcopy(x_test_load)"
   ]
  },
  {
   "cell_type": "markdown",
   "metadata": {},
   "source": [
    "## feature engineering\n",
    "---"
   ]
  },
  {
   "cell_type": "markdown",
   "metadata": {},
   "source": [
    "#### 주차별 데이터\n",
    "---"
   ]
  },
  {
   "cell_type": "markdown",
   "metadata": {},
   "source": [
    "##### 채팅\n",
    "- 1) 채팅횟수 총합 (1)\n",
    "- 2) 채팅 비율 (5)"
   ]
  },
  {
   "cell_type": "code",
   "execution_count": 5,
   "metadata": {},
   "outputs": [],
   "source": [
    "#채팅횟수 총합\n",
    "x_data['sum_chat'] = x_data['normal_chat'] + x_data['whisper_chat'] + x_data['district_chat'] + x_data['party_chat'] + x_data['guild_chat'] + x_data['faction_chat']\n",
    "x_test['sum_chat'] = x_test['normal_chat'] + x_test['whisper_chat'] + x_test['district_chat'] + x_test['party_chat'] + x_test['guild_chat'] + x_test['faction_chat']"
   ]
  },
  {
   "cell_type": "code",
   "execution_count": 6,
   "metadata": {},
   "outputs": [],
   "source": [
    "#채팅 비율\n",
    "temp = ['normal_chat', 'whisper_chat', 'district_chat', 'party_chat', 'guild_chat', 'faction_chat']\n",
    "for value in temp:\n",
    "    x_data['rate_' + value] = x_data[value]/(x_data['sum_chat'] + 0.0001)\n",
    "    x_test['rate_' + value] = x_test[value]/(x_test['sum_chat'] + 0.0001)"
   ]
  },
  {
   "cell_type": "markdown",
   "metadata": {},
   "source": [
    "##### 입장\n",
    "- 1) 입장 총합 (1)\n",
    "- 2) 입장 비율 (7)"
   ]
  },
  {
   "cell_type": "code",
   "execution_count": 7,
   "metadata": {},
   "outputs": [],
   "source": [
    "#입장 총합\n",
    "temp = ['inzone_solo', 'inzone_light', 'inzone_skilled', 'inzone_normal', 'raid', 'raid_light', 'bam']\n",
    "x_data['sum_enter'] = 0\n",
    "x_test['sum_enter'] = 0\n",
    "for v in temp:\n",
    "    x_data['sum_enter'] += x_data['cnt_enter_' + v]\n",
    "    x_test['sum_enter'] += x_test['cnt_enter_' + v]"
   ]
  },
  {
   "cell_type": "code",
   "execution_count": 8,
   "metadata": {},
   "outputs": [],
   "source": [
    "#입장 비율\n",
    "temp = ['inzone_solo', 'inzone_light', 'inzone_skilled', 'inzone_normal', 'raid', 'raid_light', 'bam']\n",
    "for value in temp:\n",
    "    x_data['rate_enter_' + value] = x_data['cnt_enter_' + value]/(x_data['sum_enter'] + 0.0001)\n",
    "    x_test['rate_enter_' + value] = x_test['cnt_enter_' + value]/(x_test['sum_enter'] + 0.0001)"
   ]
  },
  {
   "cell_type": "markdown",
   "metadata": {},
   "source": [
    "##### 완료\n",
    "- 1) 완료 총합 (1)\n",
    "- 2) 완료 비율 (7)"
   ]
  },
  {
   "cell_type": "code",
   "execution_count": 9,
   "metadata": {},
   "outputs": [],
   "source": [
    "#완료 총합\n",
    "temp = ['inzone_solo', 'inzone_light', 'inzone_skilled', 'inzone_normal', 'raid', 'raid_light', 'bam']\n",
    "x_data['sum_clear'] = 0\n",
    "x_test['sum_clear'] = 0\n",
    "for v in temp:\n",
    "    x_data['sum_clear'] += x_data['cnt_clear_' + v]\n",
    "    x_test['sum_clear'] += x_test['cnt_clear_' + v]"
   ]
  },
  {
   "cell_type": "code",
   "execution_count": 10,
   "metadata": {},
   "outputs": [],
   "source": [
    "#완료 비율\n",
    "temp = ['inzone_solo', 'inzone_light', 'inzone_skilled', 'inzone_normal', 'raid', 'raid_light', 'bam']\n",
    "for value in temp:\n",
    "    x_data['rate_clear_' + value] = x_data['cnt_clear_' + value]/(x_data['sum_clear'] + 0.0001)\n",
    "    x_test['rate_clear_' + value] = x_test['cnt_clear_' + value]/(x_test['sum_clear'] + 0.0001)"
   ]
  },
  {
   "cell_type": "markdown",
   "metadata": {},
   "source": [
    "##### 완료율\n",
    "- 1) 완료율 (7)"
   ]
  },
  {
   "cell_type": "code",
   "execution_count": 11,
   "metadata": {},
   "outputs": [],
   "source": [
    "#완료율\n",
    "#솔로 인던 완료율, 라이트 인던 완료율, 숙련 인던 완료율, 라이트/숙련 인던 완료율, 레이드 완료율, 라이트 레이드 완료율, 바람 평야 완료율\n",
    "temp = ['inzone_solo', 'inzone_light', 'inzone_skilled', 'inzone_normal', 'raid', 'raid_light', 'bam']\n",
    "for value in temp:\n",
    "    x_data['rate_' + value] = x_data['cnt_clear_' + value]/(x_data['cnt_enter_' + value] + 0.0001)\n",
    "    x_test['rate_' + value] = x_test['cnt_clear_' + value]/(x_test['cnt_enter_' + value] + 0.0001)"
   ]
  },
  {
   "cell_type": "markdown",
   "metadata": {},
   "source": [
    "##### 승률\n",
    "- 1) 결투 승률 (1)\n",
    "- 2) 전장 승률 (2)"
   ]
  },
  {
   "cell_type": "code",
   "execution_count": 12,
   "metadata": {},
   "outputs": [],
   "source": [
    "#결투승률추가\n",
    "x_data['duel_winning_rate'] = x_data.duel_win/(x_data.duel_cnt + 0.0001)\n",
    "x_test['duel_winning_rate'] = x_test.duel_win/(x_test.duel_cnt + 0.0001)"
   ]
  },
  {
   "cell_type": "code",
   "execution_count": 13,
   "metadata": {},
   "outputs": [],
   "source": [
    "#전장승률추가\n",
    "x_data['partybattle_winning_rate'] = x_data.partybattle_win/(x_data.partybattle_cnt + 0.0001)\n",
    "x_test['partybattle_winning_rate'] = x_test.partybattle_win/(x_test.partybattle_cnt + 0.0001)"
   ]
  },
  {
   "cell_type": "markdown",
   "metadata": {},
   "source": [
    "##### 경험치\n",
    "- 1) 총경험치 획득량 (1)\n",
    "- 2) 각 경험치 획득 비율 (5)"
   ]
  },
  {
   "cell_type": "code",
   "execution_count": 14,
   "metadata": {
    "scrolled": false
   },
   "outputs": [],
   "source": [
    "#총 경험치 획득량\n",
    "x_data['sum_exp'] = x_data['npc_exp'] + x_data['npc_hongmun'] + x_data['quest_exp'] + x_data['quest_hongmun'] + x_data['item_hongmun']\n",
    "x_test['sum_exp'] = x_test['npc_exp'] + x_test['npc_hongmun'] + x_test['quest_exp'] + x_test['quest_hongmun'] + x_test['item_hongmun']"
   ]
  },
  {
   "cell_type": "code",
   "execution_count": 15,
   "metadata": {},
   "outputs": [],
   "source": [
    "#각 경험치 획득 비율\n",
    "temp = ['npc_exp', 'npc_hongmun', 'quest_exp', 'quest_hongmun', 'item_hongmun']\n",
    "for value in temp:\n",
    "        x_data['rate_' + value] = x_data[value]/(x_data['sum_exp'] + 0.0001)\n",
    "        x_test['rate_' + value] = x_test[value]/(x_test['sum_exp'] + 0.0001)"
   ]
  },
  {
   "cell_type": "markdown",
   "metadata": {},
   "source": [
    "###### play time 대비 ~"
   ]
  },
  {
   "cell_type": "code",
   "execution_count": 16,
   "metadata": {},
   "outputs": [],
   "source": [
    "#play time - game combat time\n",
    "x_data['p_to_g'] = x_data.play_time / (x_data.game_combat_time + 0.0001)\n",
    "x_data['g_to_p'] = x_data.game_combat_time / (x_data.play_time + 0.0001)\n",
    "x_data['b_to_p'] = x_data.cnt_use_buffitem / (x_data.play_time + 0.0001)\n",
    "\n",
    "#play time - game combat time\n",
    "x_test['p_to_g'] = x_test.play_time / (x_test.game_combat_time + 0.0001)\n",
    "x_test['g_to_p'] = x_test.game_combat_time / (x_test.play_time + 0.0001)\n",
    "x_test['b_to_p'] = x_test.cnt_use_buffitem / (x_test.play_time + 0.0001)"
   ]
  },
  {
   "cell_type": "markdown",
   "metadata": {},
   "source": [
    "#### 통합 데이터\n",
    "---"
   ]
  },
  {
   "cell_type": "code",
   "execution_count": 17,
   "metadata": {},
   "outputs": [],
   "source": [
    "train_common = pd.DataFrame(index = x_data.groupby(by='acc_id').mean().index)\n",
    "test_common = pd.DataFrame(index = x_test.groupby(by='acc_id').mean().index)"
   ]
  },
  {
   "cell_type": "markdown",
   "metadata": {},
   "source": [
    "##### 평균 추가"
   ]
  },
  {
   "cell_type": "code",
   "execution_count": 18,
   "metadata": {},
   "outputs": [],
   "source": [
    "train_mean = x_train_load.groupby(by='acc_id').mean().play_time.to_frame()\n",
    "test_mean = x_test_load.groupby(by='acc_id').mean().play_time.to_frame()"
   ]
  },
  {
   "cell_type": "code",
   "execution_count": 19,
   "metadata": {},
   "outputs": [],
   "source": [
    "train_mean.columns = [v + '_mean' for v in train_mean.columns]\n",
    "test_mean.columns = [v + '_mean' for v in test_mean.columns]"
   ]
  },
  {
   "cell_type": "code",
   "execution_count": 20,
   "metadata": {},
   "outputs": [],
   "source": [
    "train_common = pd.merge(train_common, train_mean, how='left', on='acc_id')\n",
    "test_common = pd.merge(test_common, test_mean, how='left', on='acc_id')"
   ]
  },
  {
   "cell_type": "markdown",
   "metadata": {},
   "source": [
    "###### 최대값 추가"
   ]
  },
  {
   "cell_type": "code",
   "execution_count": 21,
   "metadata": {},
   "outputs": [],
   "source": [
    "train_max = x_train_load.groupby(by='acc_id').max().play_time.to_frame().fillna(-1000)\n",
    "test_max = x_test_load.groupby(by='acc_id').max().play_time.to_frame().fillna(-1000)"
   ]
  },
  {
   "cell_type": "code",
   "execution_count": 22,
   "metadata": {},
   "outputs": [],
   "source": [
    "train_max.columns = [v + '_max' for v in train_max.columns]\n",
    "test_max.columns = [v + '_max' for v in test_max.columns]"
   ]
  },
  {
   "cell_type": "code",
   "execution_count": 23,
   "metadata": {},
   "outputs": [],
   "source": [
    "train_max = pd.merge(train_common, train_max, how='left', on='acc_id')\n",
    "test_max = pd.merge(test_common, test_max, how='left', on='acc_id')"
   ]
  },
  {
   "cell_type": "markdown",
   "metadata": {},
   "source": [
    "###### 최소값 추가"
   ]
  },
  {
   "cell_type": "code",
   "execution_count": 24,
   "metadata": {},
   "outputs": [],
   "source": [
    "train_min = x_train_load.groupby(by='acc_id').min().play_time.to_frame().fillna(-1000)\n",
    "test_min = x_test_load.groupby(by='acc_id').min().play_time.to_frame().fillna(-1000)"
   ]
  },
  {
   "cell_type": "code",
   "execution_count": 25,
   "metadata": {},
   "outputs": [],
   "source": [
    "train_min.columns = [v + '_min' for v in train_min.columns]\n",
    "test_min.columns = [v + '_min' for v in test_min.columns]"
   ]
  },
  {
   "cell_type": "code",
   "execution_count": 26,
   "metadata": {},
   "outputs": [],
   "source": [
    "train_common = pd.merge(train_common, train_min, how='left', on='acc_id')\n",
    "test_common = pd.merge(test_common, test_min, how='left', on='acc_id')"
   ]
  },
  {
   "cell_type": "markdown",
   "metadata": {},
   "source": [
    "##### duration_week"
   ]
  },
  {
   "cell_type": "code",
   "execution_count": 27,
   "metadata": {},
   "outputs": [],
   "source": [
    "train_common['duration_wk'] = 8 - x_data.groupby(by='acc_id').min().wk\n",
    "test_common['duration_wk'] = 8 - x_test.groupby(by='acc_id').min().wk"
   ]
  },
  {
   "cell_type": "markdown",
   "metadata": {},
   "source": [
    "#### 주차별로 늘이기\n",
    "---"
   ]
  },
  {
   "cell_type": "code",
   "execution_count": 28,
   "metadata": {},
   "outputs": [],
   "source": [
    "x_data_temp = x_data[x_data.wk == 1]\n",
    "x_test_temp = x_test[x_test.wk == 1]\n",
    "\n",
    "x_data_temp.columns = x_data_temp.columns.map(lambda v: v + '_1' if v != 'acc_id' else v)\n",
    "x_test_temp.columns = x_test_temp.columns.map(lambda v: v + '_1' if v != 'acc_id' else v)\n",
    "\n",
    "for i in range(2, 9):\n",
    "    x_data_i = x_data[x_data.wk == i]\n",
    "    x_data_i.columns = x_data_i.columns.map(lambda v: v + '_' + str(i) if v != 'acc_id' else v)\n",
    "    x_data_temp = pd.merge(x_data_temp, x_data_i, how = 'outer', on = 'acc_id')\n",
    "    \n",
    "    x_test_i = x_test[x_test.wk == i]\n",
    "    x_test_i.columns = x_test_i.columns.map(lambda v: v + '_' + str(i) if v != 'acc_id' else v)\n",
    "    x_test_temp = pd.merge(x_test_temp, x_test_i, how = 'outer', on = 'acc_id')\n",
    "\n",
    "x_data = x_data_temp.fillna(0).sort_values(by='acc_id', ascending=True)\n",
    "x_test = x_test_temp.fillna(0).sort_values(by='acc_id', ascending=True)"
   ]
  },
  {
   "cell_type": "markdown",
   "metadata": {},
   "source": [
    "#### 합치기\n",
    "---"
   ]
  },
  {
   "cell_type": "code",
   "execution_count": 29,
   "metadata": {},
   "outputs": [],
   "source": [
    "x_data = x_data.set_index('acc_id')\n",
    "x_test = x_test.set_index('acc_id')"
   ]
  },
  {
   "cell_type": "code",
   "execution_count": 30,
   "metadata": {},
   "outputs": [],
   "source": [
    "x_data = pd.merge(x_data, train_common, how='left', on='acc_id')\n",
    "x_test = pd.merge(x_test, test_common, how='left', on='acc_id')"
   ]
  },
  {
   "cell_type": "markdown",
   "metadata": {},
   "source": [
    "#### play_time_mean month로부터의 거리\n",
    "---"
   ]
  },
  {
   "cell_type": "code",
   "execution_count": 32,
   "metadata": {
    "collapsed": true
   },
   "outputs": [
    {
     "data": {
      "text/plain": [
       "<matplotlib.axes._subplots.AxesSubplot at 0x1dc80c18710>"
      ]
     },
     "execution_count": 32,
     "metadata": {},
     "output_type": "execute_result"
    },
    {
     "data": {
      "image/png": "[encoded data removed]",
      "text/plain": [
       "<Figure size 432x288 with 1 Axes>"
      ]
     },
     "metadata": {},
     "output_type": "display_data"
    }
   ],
   "source": [
    "sns.distplot(np.log(x_data[(y_data.label == '2month').values].play_time_8))"
   ]
  },
  {
   "cell_type": "code",
   "execution_count": 33,
   "metadata": {
    "collapsed": true
   },
   "outputs": [
    {
     "data": {
      "text/plain": [
       "<matplotlib.axes._subplots.AxesSubplot at 0x1dc80c09c50>"
      ]
     },
     "execution_count": 33,
     "metadata": {},
     "output_type": "execute_result"
    },
    {
     "data": {
      "image/png": "[encoded data removed]",
      "text/plain": [
       "<Figure size 432x288 with 1 Axes>"
      ]
     },
     "metadata": {},
     "output_type": "display_data"
    }
   ],
   "source": [
    "sns.distplot(np.log(x_data[(y_data.label == 'month').values].play_time_8))"
   ]
  },
  {
   "cell_type": "code",
   "execution_count": 34,
   "metadata": {
    "collapsed": true
   },
   "outputs": [
    {
     "data": {
      "text/plain": [
       "<matplotlib.axes._subplots.AxesSubplot at 0x1dc801484e0>"
      ]
     },
     "execution_count": 34,
     "metadata": {},
     "output_type": "execute_result"
    },
    {
     "data": {
      "image/png": "[encoded data removed]",
      "text/plain": [
       "<Figure size 432x288 with 1 Axes>"
      ]
     },
     "metadata": {},
     "output_type": "display_data"
    }
   ],
   "source": [
    "sns.distplot(np.log(x_data[(y_data.label == '2month').values].play_time_mean))"
   ]
  },
  {
   "cell_type": "code",
   "execution_count": 35,
   "metadata": {
    "collapsed": true
   },
   "outputs": [
    {
     "data": {
      "text/plain": [
       "<matplotlib.axes._subplots.AxesSubplot at 0x1dc809c55f8>"
      ]
     },
     "execution_count": 35,
     "metadata": {},
     "output_type": "execute_result"
    },
    {
     "data": {
      "image/png": "[encoded data removed]",
      "text/plain": [
       "<Figure size 432x288 with 1 Axes>"
      ]
     },
     "metadata": {},
     "output_type": "display_data"
    }
   ],
   "source": [
    "sns.distplot(np.log(x_data[(y_data.label == 'month').values].play_time_mean))"
   ]
  },
  {
   "cell_type": "code",
   "execution_count": 31,
   "metadata": {},
   "outputs": [],
   "source": [
    "x_data['distance_play_time_mean'] = np.exp(15) - x_data.play_time_mean"
   ]
  },
  {
   "cell_type": "markdown",
   "metadata": {},
   "source": [
    "# 저장 !\n",
    "---"
   ]
  },
  {
   "cell_type": "code",
   "execution_count": 32,
   "metadata": {},
   "outputs": [],
   "source": [
    "x_data.to_csv('C:\\\\Users\\\\zeus_\\\\Desktop\\\\champion_data\\\\train\\\\train_activity_final_v1.csv')\n",
    "x_test.to_csv('C:\\\\Users\\\\zeus_\\\\Desktop\\\\champion_data\\\\test\\\\test_activity_final_v1.csv')"
   ]
  },
  {
   "cell_type": "markdown",
   "metadata": {},
   "source": [
    "# 모델"
   ]
  },
  {
   "cell_type": "markdown",
   "metadata": {},
   "source": [
    "# 트레이닝셋, 테스트 셋 구분\n",
    "---"
   ]
  },
  {
   "cell_type": "code",
   "execution_count": 37,
   "metadata": {},
   "outputs": [],
   "source": [
    "x_train, x_test, y_train, y_test = train_test_split(x_data.values, y_data.label.values, test_size=0.1, random_state=200)"
   ]
  },
  {
   "cell_type": "markdown",
   "metadata": {},
   "source": [
    "---\n",
    "# 모델 - 전체\n",
    "---"
   ]
  },
  {
   "cell_type": "code",
   "execution_count": 38,
   "metadata": {},
   "outputs": [],
   "source": [
    "forest = RandomForestClassifier(n_estimators=100, random_state=24, n_jobs=3, max_depth=32)"
   ]
  },
  {
   "cell_type": "code",
   "execution_count": 39,
   "metadata": {
    "scrolled": false
   },
   "outputs": [
    {
     "data": {
      "text/plain": [
       "RandomForestClassifier(bootstrap=True, class_weight=None, criterion='gini',\n",
       "            max_depth=32, max_features='auto', max_leaf_nodes=None,\n",
       "            min_impurity_decrease=0.0, min_impurity_split=None,\n",
       "            min_samples_leaf=1, min_samples_split=2,\n",
       "            min_weight_fraction_leaf=0.0, n_estimators=100, n_jobs=3,\n",
       "            oob_score=False, random_state=24, verbose=0, warm_start=False)"
      ]
     },
     "execution_count": 39,
     "metadata": {},
     "output_type": "execute_result"
    }
   ],
   "source": [
    "forest.fit(x_train,y_train)"
   ]
  },
  {
   "cell_type": "code",
   "execution_count": 40,
   "metadata": {
    "scrolled": true
   },
   "outputs": [
    {
     "data": {
      "text/plain": [
       "0.7364499806235247"
      ]
     },
     "execution_count": 40,
     "metadata": {},
     "output_type": "execute_result"
    }
   ],
   "source": [
    "np.mean(f1_score(y_test, forest.predict(x_test), average=None))"
   ]
  },
  {
   "cell_type": "code",
   "execution_count": 41,
   "metadata": {},
   "outputs": [],
   "source": [
    "# plot_feature_importances(forest, x_test.columns)"
   ]
  },
  {
   "cell_type": "code",
   "execution_count": 42,
   "metadata": {
    "scrolled": true
   },
   "outputs": [
    {
     "data": {
      "text/plain": [
       "['acc_id',\n",
       " 'play_time_mean',\n",
       " 'play_time_8',\n",
       " 'distance_play_time_mean',\n",
       " 'p_to_g_8',\n",
       " 'play_time_min',\n",
       " 'cnt_dt_8',\n",
       " 'game_combat_time_8',\n",
       " 'sum_exp_8',\n",
       " 'g_to_p_8',\n",
       " 'get_money_8',\n",
       " 'p_to_g_7',\n",
       " 'play_time_7',\n",
       " 'b_to_p_8',\n",
       " 'p_to_g_4',\n",
       " 'play_time_4',\n",
       " 'play_time_5',\n",
       " 'p_to_g_5',\n",
       " 'p_to_g_6',\n",
       " 'play_time_6',\n",
       " 'p_to_g_3',\n",
       " 'cnt_enter_inzone_normal_8',\n",
       " 'rate_enter_inzone_normal_8',\n",
       " 'play_time_3',\n",
       " 'quest_hongmun_8',\n",
       " 'cnt_dt_4',\n",
       " 'rate_clear_inzone_normal_8',\n",
       " 'rate_quest_hongmun_8',\n",
       " 'get_money_3',\n",
       " 'cnt_dt_7',\n",
       " 'rate_npc_hongmun_8',\n",
       " 'p_to_g_1',\n",
       " 'npc_hongmun_8',\n",
       " 'play_time_1',\n",
       " 'play_time_2',\n",
       " 'p_to_g_2',\n",
       " 'cnt_dt_5',\n",
       " 'sum_clear_8',\n",
       " 'rate_clear_inzone_light_8',\n",
       " 'rate_enter_raid_light_8',\n",
       " 'sum_chat_8',\n",
       " 'get_money_1',\n",
       " 'duration_wk',\n",
       " 'cnt_use_buffitem_8',\n",
       " 'npc_exp_8',\n",
       " 'sum_enter_8',\n",
       " 'rate_guild_chat_7',\n",
       " 'quest_exp_8',\n",
       " 'cnt_clear_inzone_normal_8',\n",
       " 'cnt_dt_6',\n",
       " 'cnt_clear_raid_light_7',\n",
       " 'guild_chat_8',\n",
       " 'guild_chat_7',\n",
       " 'cnt_dt_1',\n",
       " 'rate_raid_light_8',\n",
       " 'g_to_p_7',\n",
       " 'game_combat_time_7',\n",
       " 'rate_enter_inzone_solo_8',\n",
       " 'cnt_dt_3',\n",
       " 'rate_enter_inzone_light_8',\n",
       " 'rate_quest_exp_8',\n",
       " 'rate_npc_exp_8',\n",
       " 'rate_clear_inzone_solo_8',\n",
       " 'cnt_enter_raid_light_7',\n",
       " 'rate_quest_hongmun_7',\n",
       " 'quest_hongmun_5',\n",
       " 'b_to_p_7',\n",
       " 'sum_chat_3',\n",
       " 'cnt_enter_inzone_light_8',\n",
       " 'making_cnt_8',\n",
       " 'rate_guild_chat_8',\n",
       " 'cnt_dt_2',\n",
       " 'cnt_enter_raid_light_8',\n",
       " 'game_combat_time_6',\n",
       " 'guild_chat_6',\n",
       " 'item_hongmun_6',\n",
       " 'item_hongmun_1',\n",
       " 'rate_clear_raid_light_7',\n",
       " 'item_hongmun_8',\n",
       " 'cnt_use_buffitem_7',\n",
       " 'g_to_p_6',\n",
       " 'b_to_p_6',\n",
       " 'rate_party_chat_8',\n",
       " 'get_money_6',\n",
       " 'whisper_chat_8',\n",
       " 'wk_1',\n",
       " 'rate_inzone_normal_8',\n",
       " 'get_money_4',\n",
       " 'rate_enter_raid_light_6',\n",
       " 'rate_raid_light_7',\n",
       " 'sum_chat_4',\n",
       " 'wk_3',\n",
       " 'cnt_clear_inzone_light_8',\n",
       " 'sum_exp_7',\n",
       " 'quest_hongmun_7',\n",
       " 'get_money_2',\n",
       " 'sum_chat_6',\n",
       " 'rate_item_hongmun_8',\n",
       " 'rate_normal_chat_8',\n",
       " 'whisper_chat_6',\n",
       " 'rate_whisper_chat_8',\n",
       " 'get_money_7',\n",
       " 'whisper_chat_5',\n",
       " 'rate_inzone_light_8',\n",
       " 'guild_chat_5',\n",
       " 'rate_enter_inzone_normal_7',\n",
       " 'party_chat_8',\n",
       " 'rate_guild_chat_4',\n",
       " 'rate_whisper_chat_4',\n",
       " 'normal_chat_8',\n",
       " 'sum_chat_7',\n",
       " 'whisper_chat_7',\n",
       " 'rate_enter_inzone_solo_7',\n",
       " 'npc_exp_7',\n",
       " 'quest_hongmun_4',\n",
       " 'sum_chat_1',\n",
       " 'wk_4',\n",
       " 'rate_clear_inzone_solo_7',\n",
       " 'rate_npc_hongmun_7',\n",
       " 'rate_whisper_chat_5',\n",
       " 'whisper_chat_4',\n",
       " 'making_cnt_3',\n",
       " 'cnt_enter_inzone_solo_8',\n",
       " 'cnt_enter_raid_light_6',\n",
       " 'item_hongmun_3',\n",
       " 'cnt_clear_raid_light_8',\n",
       " 'wk_6',\n",
       " 'wk_5',\n",
       " 'rate_quest_hongmun_6',\n",
       " 'game_combat_time_5',\n",
       " 'cnt_clear_inzone_solo_8',\n",
       " 'wk_7',\n",
       " 'npc_hongmun_4',\n",
       " 'npc_hongmun_7',\n",
       " 'sum_chat_2',\n",
       " 'g_to_p_3',\n",
       " 'game_combat_time_3',\n",
       " 'sum_chat_5',\n",
       " 'sum_exp_6',\n",
       " 'g_to_p_5',\n",
       " 'game_combat_time_4',\n",
       " 'rate_guild_chat_6',\n",
       " 'sum_enter_1',\n",
       " 'rate_guild_chat_1',\n",
       " 'rate_quest_hongmun_1',\n",
       " 'rate_whisper_chat_6',\n",
       " 'rate_guild_chat_2',\n",
       " 'g_to_p_4',\n",
       " 'cnt_clear_inzone_normal_7',\n",
       " 'rate_clear_inzone_normal_7',\n",
       " 'quest_hongmun_6',\n",
       " 'rate_whisper_chat_7',\n",
       " 'quest_hongmun_2',\n",
       " 'b_to_p_3',\n",
       " 'b_to_p_5',\n",
       " 'quest_exp_7',\n",
       " 'sum_exp_4',\n",
       " 'game_combat_time_1',\n",
       " 'sum_exp_1',\n",
       " 'quest_hongmun_1',\n",
       " 'sum_exp_5',\n",
       " 'rate_party_chat_7',\n",
       " 'cnt_enter_inzone_normal_7',\n",
       " 'sum_clear_7',\n",
       " 'sum_exp_2',\n",
       " 'b_to_p_4',\n",
       " 'rate_item_hongmun_7',\n",
       " 'item_hongmun_7',\n",
       " 'rate_npc_hongmun_1',\n",
       " 'rate_quest_hongmun_4',\n",
       " 'guild_chat_4',\n",
       " 'rate_quest_exp_7',\n",
       " 'rate_quest_hongmun_2',\n",
       " 'rate_npc_hongmun_6',\n",
       " 'rate_npc_exp_7',\n",
       " 'cnt_clear_inzone_normal_4',\n",
       " 'rate_enter_raid_8',\n",
       " 'rate_clear_inzone_solo_6',\n",
       " 'cnt_clear_inzone_light_7',\n",
       " 'sum_exp_3',\n",
       " 'rate_clear_inzone_normal_4',\n",
       " 'rate_inzone_normal_7',\n",
       " 'cnt_use_buffitem_6',\n",
       " 'sum_clear_4',\n",
       " 'rate_npc_hongmun_4',\n",
       " 'cnt_clear_raid_light_6',\n",
       " 'rate_raid_light_6',\n",
       " 'rate_quest_hongmun_5',\n",
       " 'quest_hongmun_3',\n",
       " 'wk_2',\n",
       " 'sum_enter_7',\n",
       " 'rate_whisper_chat_3',\n",
       " 'g_to_p_1',\n",
       " 'sum_enter_6',\n",
       " 'npc_hongmun_3',\n",
       " 'party_chat_6',\n",
       " 'rate_inzone_solo_8',\n",
       " 'rate_npc_hongmun_5',\n",
       " 'rate_clear_raid_light_1',\n",
       " 'rate_enter_inzone_light_5',\n",
       " 'rate_item_hongmun_6']"
      ]
     },
     "execution_count": 42,
     "metadata": {},
     "output_type": "execute_result"
    }
   ],
   "source": [
    "select_important_feautre(x_data.columns, forest.feature_importances_, 200)"
   ]
  },
  {
   "cell_type": "code",
   "execution_count": 43,
   "metadata": {},
   "outputs": [],
   "source": [
    "# 테스트 데이터 로드\n",
    "test_data = pd.read_csv('C://Users//zeus_//Desktop//champion_data//test/test_activity_final_v1.csv')"
   ]
  },
  {
   "cell_type": "code",
   "execution_count": 44,
   "metadata": {},
   "outputs": [],
   "source": [
    "acc_id = test_data.acc_id.values"
   ]
  },
  {
   "cell_type": "code",
   "execution_count": 45,
   "metadata": {},
   "outputs": [],
   "source": [
    "x_test = test_data.drop(['acc_id'], axis=1)"
   ]
  },
  {
   "cell_type": "code",
   "execution_count": null,
   "metadata": {},
   "outputs": [],
   "source": [
    "result = forest.predict(x_test)"
   ]
  },
  {
   "cell_type": "code",
   "execution_count": null,
   "metadata": {},
   "outputs": [],
   "source": [
    "data = {'acc_id':acc_id, 'label':result}"
   ]
  },
  {
   "cell_type": "code",
   "execution_count": null,
   "metadata": {},
   "outputs": [],
   "source": [
    "df = pd.DataFrame(data)"
   ]
  },
  {
   "cell_type": "code",
   "execution_count": null,
   "metadata": {},
   "outputs": [],
   "source": [
    "df.to_csv('C:\\\\Users\\\\zeus_\\\\Desktop\\\\champion_data\\\\test\\\\result\\\\40_final_v1_result.csv')"
   ]
  }
 ],
 "metadata": {
  "kernelspec": {
   "display_name": "Python 3",
   "language": "python",
   "name": "python3"
  },
  "language_info": {
   "codemirror_mode": {
    "name": "ipython",
    "version": 3
   },
   "file_extension": ".py",
   "mimetype": "text/x-python",
   "name": "python",
   "nbconvert_exporter": "python",
   "pygments_lexer": "ipython3",
   "version": "3.6.3"
  }
 },
 "nbformat": 4,
 "nbformat_minor": 2
}
