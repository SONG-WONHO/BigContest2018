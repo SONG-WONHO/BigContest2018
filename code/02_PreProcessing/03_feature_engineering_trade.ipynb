{
 "cells": [
  {
   "cell_type": "code",
   "execution_count": 1,
   "metadata": {},
   "outputs": [],
   "source": [
    "# module 임포트\n",
    "import pandas as pd\n",
    "import numpy as np\n",
    "import matplotlib.pyplot as plt\n",
    "import seaborn as sns"
   ]
  },
  {
   "cell_type": "markdown",
   "metadata": {},
   "source": [
    "# 뼈대"
   ]
  },
  {
   "cell_type": "code",
   "execution_count": 2,
   "metadata": {},
   "outputs": [],
   "source": [
    "train_acc_id = pd.read_csv('C:\\\\Users\\\\zeus_\\\\Desktop\\\\champion_data\\\\train\\\\train_activity_704.csv').acc_id\n",
    "test_acc_id = pd.read_csv('C:\\\\Users\\\\zeus_\\\\Desktop\\\\champion_data\\\\test\\\\test_activity_704.csv').acc_id"
   ]
  },
  {
   "cell_type": "code",
   "execution_count": 3,
   "metadata": {},
   "outputs": [],
   "source": [
    "#뼈대 만들기\n",
    "train_acc_id = train_acc_id.to_frame()\n",
    "test_acc_id = test_acc_id.to_frame()"
   ]
  },
  {
   "cell_type": "code",
   "execution_count": 4,
   "metadata": {},
   "outputs": [],
   "source": [
    "train_acc_id.index = train_acc_id['acc_id']\n",
    "test_acc_id.index = test_acc_id['acc_id']"
   ]
  },
  {
   "cell_type": "code",
   "execution_count": 5,
   "metadata": {},
   "outputs": [],
   "source": [
    "train_acc_id = train_acc_id.drop(['acc_id'], axis = 1)\n",
    "test_acc_id = test_acc_id.drop(['acc_id'], axis = 1)"
   ]
  },
  {
   "cell_type": "markdown",
   "metadata": {},
   "source": [
    "# 트레이드 데이터"
   ]
  },
  {
   "cell_type": "code",
   "execution_count": 6,
   "metadata": {},
   "outputs": [],
   "source": [
    "def select_2min_value(train_column, test_column):\n",
    "    train = list(set(train_column))\n",
    "    test = list(set(test_column))\n",
    "    \n",
    "    train.sort()\n",
    "    test.sort()\n",
    "    \n",
    "    result = []\n",
    "    result.extend(train[0:2])\n",
    "    result.extend(test[0:2])\n",
    "    \n",
    "    result = list(set(result))\n",
    "    result.sort()\n",
    "    return result[0:2]"
   ]
  },
  {
   "cell_type": "code",
   "execution_count": 7,
   "metadata": {},
   "outputs": [],
   "source": [
    "train_trade_load = pd.read_csv('C:\\\\Users\\\\zeus_\\\\Desktop\\\\champion_data\\\\train\\\\train_trade.csv')\n",
    "test_trade_load = pd.read_csv('C:\\\\Users\\\\zeus_\\\\Desktop\\\\champion_data\\\\test\\\\test_trade.csv')"
   ]
  },
  {
   "cell_type": "code",
   "execution_count": 8,
   "metadata": {},
   "outputs": [],
   "source": [
    "train_trade = train_trade_load\n",
    "test_trade = test_trade_load"
   ]
  },
  {
   "cell_type": "code",
   "execution_count": 9,
   "metadata": {},
   "outputs": [],
   "source": [
    "min_two = select_2min_value(train_trade_load.item_amount, test_trade_load.item_amount)"
   ]
  },
  {
   "cell_type": "code",
   "execution_count": 10,
   "metadata": {},
   "outputs": [],
   "source": [
    "train_trade.item_amount = np.around((train_trade.item_amount - min_two[0])/(min_two[1] - min_two[0]) + 1)\n",
    "test_trade.item_amount = np.around((test_trade.item_amount - min_two[0])/(min_two[1] - min_two[0]) + 1)"
   ]
  },
  {
   "cell_type": "code",
   "execution_count": 11,
   "metadata": {},
   "outputs": [],
   "source": [
    "train_goomae = train_trade_load.sort_values(by='target_acc_id', ascending=True)\n",
    "test_goomae = test_trade_load.sort_values(by='target_acc_id', ascending=True)\n",
    "\n",
    "train_panmae = train_trade_load.sort_values(by='source_acc_id', ascending=True)\n",
    "test_panmae = test_trade_load.sort_values(by='source_acc_id', ascending=True)"
   ]
  },
  {
   "cell_type": "markdown",
   "metadata": {},
   "source": [
    "## 상수\n",
    "---"
   ]
  },
  {
   "cell_type": "code",
   "execution_count": 12,
   "metadata": {},
   "outputs": [],
   "source": [
    "items = ['accessory', 'costume', 'gem', 'grocery', 'money', 'weapon']"
   ]
  },
  {
   "cell_type": "markdown",
   "metadata": {},
   "source": [
    "### 1) 구매 건수, 6가지 아이템 별 구매 건수"
   ]
  },
  {
   "cell_type": "code",
   "execution_count": 13,
   "metadata": {},
   "outputs": [],
   "source": [
    "#구매컬럼명작성\n",
    "items_goomae = ['cnt_goomae_' + v for v in items]\n",
    "items_goomae.insert(0, 'acc_id')"
   ]
  },
  {
   "cell_type": "code",
   "execution_count": 14,
   "metadata": {},
   "outputs": [],
   "source": [
    "train_cnt_goomae = pd.crosstab(index=train_goomae.target_acc_id, columns=train_goomae.item_type).reset_index()\n",
    "test_cnt_goomae = pd.crosstab(index=test_goomae.target_acc_id, columns=test_goomae.item_type).reset_index()"
   ]
  },
  {
   "cell_type": "code",
   "execution_count": 15,
   "metadata": {},
   "outputs": [],
   "source": [
    "#컬럼설정\n",
    "train_cnt_goomae.columns = items_goomae\n",
    "test_cnt_goomae.columns = items_goomae"
   ]
  },
  {
   "cell_type": "code",
   "execution_count": 16,
   "metadata": {},
   "outputs": [],
   "source": [
    "#구매건수추가\n",
    "train_cnt_goomae['cnt_goomae_total'] = np.sum(train_cnt_goomae.loc[:,'cnt_goomae_accessory':], axis=1)\n",
    "test_cnt_goomae['cnt_goomae_total'] = np.sum(test_cnt_goomae.loc[:,'cnt_goomae_accessory':], axis=1)"
   ]
  },
  {
   "cell_type": "code",
   "execution_count": 17,
   "metadata": {
    "scrolled": true
   },
   "outputs": [],
   "source": [
    "#합치기\n",
    "train_acc_id = pd.merge(train_acc_id, train_cnt_goomae, how='left', on='acc_id')\n",
    "test_acc_id = pd.merge(test_acc_id, test_cnt_goomae, how='left', on='acc_id')"
   ]
  },
  {
   "cell_type": "markdown",
   "metadata": {},
   "source": [
    "### 2) 구매 량, 6가지 아이템 별 구매 량"
   ]
  },
  {
   "cell_type": "code",
   "execution_count": 18,
   "metadata": {},
   "outputs": [],
   "source": [
    "#구매컬럼명작성\n",
    "items_goomae = ['amt_goomae_' + v for v in items]\n",
    "items_goomae.insert(0, 'acc_id')"
   ]
  },
  {
   "cell_type": "code",
   "execution_count": 19,
   "metadata": {
    "scrolled": false
   },
   "outputs": [],
   "source": [
    "train_amt_goomae = np.around(pd.crosstab(index=train_goomae.target_acc_id, columns=train_goomae.item_type, aggfunc=sum, values=train_goomae.item_amount).fillna(0)).reset_index()\n",
    "test_amt_goomae = np.around(pd.crosstab(index=test_goomae.target_acc_id, columns=test_goomae.item_type, aggfunc=sum, values=test_goomae.item_amount).fillna(0)).reset_index()"
   ]
  },
  {
   "cell_type": "code",
   "execution_count": 20,
   "metadata": {},
   "outputs": [],
   "source": [
    "#컬럼설정\n",
    "train_amt_goomae.columns = items_goomae\n",
    "test_amt_goomae.columns = items_goomae"
   ]
  },
  {
   "cell_type": "code",
   "execution_count": 21,
   "metadata": {},
   "outputs": [],
   "source": [
    "#구매량추가\n",
    "train_amt_goomae['amt_goomae_total'] = np.sum(train_amt_goomae.loc[:,'amt_goomae_accessory':], axis=1)\n",
    "test_amt_goomae['amt_goomae_total'] = np.sum(test_amt_goomae.loc[:,'amt_goomae_accessory':], axis=1)"
   ]
  },
  {
   "cell_type": "code",
   "execution_count": 22,
   "metadata": {},
   "outputs": [],
   "source": [
    "#합치기\n",
    "train_acc_id = pd.merge(train_acc_id, train_amt_goomae, how='left', on='acc_id')\n",
    "test_acc_id = pd.merge(test_acc_id, test_amt_goomae, how='left', on='acc_id')"
   ]
  },
  {
   "cell_type": "markdown",
   "metadata": {},
   "source": [
    "### 1) 판매 건수, 6가지 아이템 별 판매 건수"
   ]
  },
  {
   "cell_type": "code",
   "execution_count": 23,
   "metadata": {},
   "outputs": [],
   "source": [
    "#판매컬럼명작성\n",
    "items_panmae = ['cnt_panmae_' + v for v in items]\n",
    "items_panmae.insert(0, 'acc_id')"
   ]
  },
  {
   "cell_type": "code",
   "execution_count": 24,
   "metadata": {},
   "outputs": [],
   "source": [
    "train_cnt_panmae = pd.crosstab(index=train_panmae.source_acc_id, columns=train_panmae.item_type).reset_index()\n",
    "test_cnt_panmae = pd.crosstab(index=test_panmae.source_acc_id, columns=test_panmae.item_type).reset_index()"
   ]
  },
  {
   "cell_type": "code",
   "execution_count": 25,
   "metadata": {},
   "outputs": [],
   "source": [
    "#컬럼설정\n",
    "train_cnt_panmae.columns = items_panmae\n",
    "test_cnt_panmae.columns = items_panmae"
   ]
  },
  {
   "cell_type": "code",
   "execution_count": 26,
   "metadata": {},
   "outputs": [],
   "source": [
    "#판매건수추가\n",
    "train_cnt_panmae['cnt_panmae_total'] = np.sum(train_cnt_panmae.loc[:,'cnt_panmae_accessory':], axis=1)\n",
    "test_cnt_panmae['cnt_panmae_total'] = np.sum(test_cnt_panmae.loc[:,'cnt_panmae_accessory':], axis=1)"
   ]
  },
  {
   "cell_type": "code",
   "execution_count": 27,
   "metadata": {
    "scrolled": true
   },
   "outputs": [],
   "source": [
    "#합치기\n",
    "train_acc_id = pd.merge(train_acc_id, train_cnt_panmae, how='left', on='acc_id')\n",
    "test_acc_id = pd.merge(test_acc_id, test_cnt_panmae, how='left', on='acc_id')"
   ]
  },
  {
   "cell_type": "markdown",
   "metadata": {},
   "source": [
    "### 2) 판매 량, 6가지 아이템 별 판매 량"
   ]
  },
  {
   "cell_type": "code",
   "execution_count": 28,
   "metadata": {},
   "outputs": [],
   "source": [
    "#판매컬럼명작성\n",
    "items_panmae = ['amt_panmae_' + v for v in items]\n",
    "items_panmae.insert(0, 'acc_id')"
   ]
  },
  {
   "cell_type": "code",
   "execution_count": 29,
   "metadata": {
    "scrolled": false
   },
   "outputs": [],
   "source": [
    "train_amt_panmae = np.around(pd.crosstab(index=train_panmae.source_acc_id, columns=train_panmae.item_type, aggfunc=sum, values=train_panmae.item_amount).fillna(0)).reset_index()\n",
    "test_amt_panmae = np.around(pd.crosstab(index=test_panmae.source_acc_id, columns=test_panmae.item_type, aggfunc=sum, values=test_panmae.item_amount).fillna(0)).reset_index()"
   ]
  },
  {
   "cell_type": "code",
   "execution_count": 30,
   "metadata": {},
   "outputs": [],
   "source": [
    "#컬럼설정\n",
    "train_amt_panmae.columns = items_panmae\n",
    "test_amt_panmae.columns = items_panmae"
   ]
  },
  {
   "cell_type": "code",
   "execution_count": 31,
   "metadata": {},
   "outputs": [],
   "source": [
    "#판매량추가\n",
    "train_amt_panmae['amt_panmae_total'] = np.sum(train_amt_panmae.loc[:,'amt_panmae_accessory':], axis=1)\n",
    "test_amt_panmae['amt_panmae_total'] = np.sum(test_amt_panmae.loc[:,'amt_panmae_accessory':], axis=1)"
   ]
  },
  {
   "cell_type": "code",
   "execution_count": 32,
   "metadata": {},
   "outputs": [],
   "source": [
    "#합치기\n",
    "train_acc_id = pd.merge(train_acc_id, train_amt_panmae, how='left', on='acc_id')\n",
    "test_acc_id = pd.merge(test_acc_id, test_amt_panmae, how='left', on='acc_id')"
   ]
  },
  {
   "cell_type": "markdown",
   "metadata": {},
   "source": [
    "### 3) 거래 건수, 거래량"
   ]
  },
  {
   "cell_type": "code",
   "execution_count": 35,
   "metadata": {},
   "outputs": [],
   "source": [
    "train_acc_id = train_acc_id.fillna(0)\n",
    "test_acc_id = test_acc_id.fillna(0)"
   ]
  },
  {
   "cell_type": "code",
   "execution_count": 37,
   "metadata": {},
   "outputs": [],
   "source": [
    "#거래건수\n",
    "train_acc_id['cnt_trade'] = train_acc_id.cnt_goomae_total + train_acc_id.cnt_panmae_total\n",
    "test_acc_id['cnt_trade'] = test_acc_id.cnt_goomae_total + test_acc_id.cnt_panmae_total"
   ]
  },
  {
   "cell_type": "code",
   "execution_count": 38,
   "metadata": {},
   "outputs": [],
   "source": [
    "#거래량\n",
    "train_acc_id['amt_trade'] = train_acc_id.amt_goomae_total + train_acc_id.amt_panmae_total\n",
    "test_acc_id['amt_trade'] = test_acc_id.amt_goomae_total + test_acc_id.amt_panmae_total"
   ]
  },
  {
   "cell_type": "code",
   "execution_count": 48,
   "metadata": {},
   "outputs": [],
   "source": [
    "train_acc_id['is_trade'] = train_acc_id['cnt_trade'] > 0\n",
    "test_acc_id['is_trade'] = test_acc_id['cnt_trade'] > 0"
   ]
  },
  {
   "cell_type": "code",
   "execution_count": 52,
   "metadata": {},
   "outputs": [],
   "source": [
    "train_acc_id.to_csv('C:\\\\Users\\\\zeus_\\\\Desktop\\\\champion_data\\\\train\\\\train_trade_new.csv')\n",
    "test_acc_id.to_csv('C:\\\\Users\\\\zeus_\\\\Desktop\\\\champion_data\\\\test\\\\test_trade_new.csv')"
   ]
  }
 ],
 "metadata": {
  "kernelspec": {
   "display_name": "Python 3",
   "language": "python",
   "name": "python3"
  },
  "language_info": {
   "codemirror_mode": {
    "name": "ipython",
    "version": 3
   },
   "file_extension": ".py",
   "mimetype": "text/x-python",
   "name": "python",
   "nbconvert_exporter": "python",
   "pygments_lexer": "ipython3",
   "version": "3.6.3"
  }
 },
 "nbformat": 4,
 "nbformat_minor": 2
}
