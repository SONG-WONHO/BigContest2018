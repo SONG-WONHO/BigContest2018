{
 "cells": [
  {
   "cell_type": "code",
   "execution_count": 1,
   "metadata": {},
   "outputs": [],
   "source": [
    "# 모듈 임포트\n",
    "from sklearn.tree import DecisionTreeClassifier\n",
    "import pandas as pd\n",
    "import numpy as np\n",
    "import matplotlib.pyplot as plt"
   ]
  },
  {
   "cell_type": "code",
   "execution_count": 17,
   "metadata": {},
   "outputs": [],
   "source": [
    "# 트레이닝 데이터 로드\n",
    "x_data = pd.read_csv('C:\\\\Users\\\\zeus_\\\\Desktop\\\\champion_data\\\\train\\\\train_activity.csv').sort_values(by='acc_id', ascending=True)\n",
    "y_data = pd.read_csv('C:\\\\Users\\\\zeus_\\\\Desktop\\\\champion_data\\\\train\\\\train_label.csv').sort_values(by='acc_id', ascending=True)"
   ]
  },
  {
   "cell_type": "code",
   "execution_count": 18,
   "metadata": {},
   "outputs": [
    {
     "name": "stdout",
     "output_type": "stream",
     "text": [
      "<class 'pandas.core.frame.DataFrame'>\n",
      "Int64Index: 440323 entries, 427043 to 315904\n",
      "Data columns (total 38 columns):\n",
      "wk                          440323 non-null int64\n",
      "acc_id                      440323 non-null object\n",
      "cnt_dt                      440323 non-null int64\n",
      "play_time                   440323 non-null float64\n",
      "npc_exp                     440323 non-null float64\n",
      "npc_hongmun                 440323 non-null float64\n",
      "quest_exp                   440323 non-null float64\n",
      "quest_hongmun               440323 non-null float64\n",
      "item_hongmun                440323 non-null float64\n",
      "game_combat_time            440323 non-null float64\n",
      "get_money                   440323 non-null float64\n",
      "duel_cnt                    440323 non-null float64\n",
      "duel_win                    440323 non-null float64\n",
      "partybattle_cnt             440323 non-null float64\n",
      "partybattle_win             440323 non-null float64\n",
      "cnt_enter_inzone_solo       440323 non-null float64\n",
      "cnt_enter_inzone_light      440323 non-null float64\n",
      "cnt_enter_inzone_skilled    440323 non-null float64\n",
      "cnt_enter_inzone_normal     440323 non-null float64\n",
      "cnt_enter_raid              440323 non-null float64\n",
      "cnt_enter_raid_light        440323 non-null float64\n",
      "cnt_enter_bam               440323 non-null float64\n",
      "cnt_clear_inzone_solo       440323 non-null float64\n",
      "cnt_clear_inzone_light      440323 non-null float64\n",
      "cnt_clear_inzone_skilled    440323 non-null float64\n",
      "cnt_clear_inzone_normal     440323 non-null float64\n",
      "cnt_clear_raid              440323 non-null float64\n",
      "cnt_clear_raid_light        440323 non-null float64\n",
      "cnt_clear_bam               440323 non-null float64\n",
      "normal_chat                 440323 non-null float64\n",
      "whisper_chat                440323 non-null float64\n",
      "district_chat               440323 non-null float64\n",
      "party_chat                  440323 non-null float64\n",
      "guild_chat                  440323 non-null float64\n",
      "faction_chat                440323 non-null float64\n",
      "cnt_use_buffitem            440323 non-null float64\n",
      "gathering_cnt               440323 non-null float64\n",
      "making_cnt                  440323 non-null float64\n",
      "dtypes: float64(35), int64(2), object(1)\n",
      "memory usage: 131.0+ MB\n"
     ]
    }
   ],
   "source": [
    "x_data.info()"
   ]
  },
  {
   "cell_type": "code",
   "execution_count": 3,
   "metadata": {},
   "outputs": [],
   "source": [
    "# 트레이닝데이터 아이디별로 그룹화 및 평균\n",
    "# 데이터의 시계열 특성이 사라지지만, 빨리 단순 회귀 모형을 볼 수 있음\n",
    "x_data = x_data.groupby(by='acc_id').mean().values[:, 2:]\n",
    "y_data = y_data.label.values"
   ]
  },
  {
   "cell_type": "code",
   "execution_count": 4,
   "metadata": {},
   "outputs": [],
   "source": [
    "#트레이닝셋, 발리데이션셋 구분\n",
    "x_train = x_data[0:int(0.7 * len(x_data)),:]\n",
    "y_train = y_data[0:int(0.7 * len(x_data))]\n",
    "\n",
    "x_cv = x_data[int(0.7 * len(x_data)):,:]\n",
    "y_cv = y_data[int(0.7 * len(x_data)):]"
   ]
  },
  {
   "cell_type": "markdown",
   "metadata": {},
   "source": [
    "### 의사결정나무\n",
    "---"
   ]
  },
  {
   "cell_type": "code",
   "execution_count": 5,
   "metadata": {},
   "outputs": [],
   "source": [
    "tree = DecisionTreeClassifier(criterion='entropy', max_depth=30, random_state=0)"
   ]
  },
  {
   "cell_type": "code",
   "execution_count": 6,
   "metadata": {},
   "outputs": [
    {
     "data": {
      "text/plain": [
       "DecisionTreeClassifier(class_weight=None, criterion='entropy', max_depth=30,\n",
       "            max_features=None, max_leaf_nodes=None,\n",
       "            min_impurity_decrease=0.0, min_impurity_split=None,\n",
       "            min_samples_leaf=1, min_samples_split=2,\n",
       "            min_weight_fraction_leaf=0.0, presort=False, random_state=0,\n",
       "            splitter='best')"
      ]
     },
     "execution_count": 6,
     "metadata": {},
     "output_type": "execute_result"
    }
   ],
   "source": [
    "tree.fit(x_train, y_train)"
   ]
  },
  {
   "cell_type": "code",
   "execution_count": 7,
   "metadata": {
    "scrolled": false
   },
   "outputs": [
    {
     "name": "stdout",
     "output_type": "stream",
     "text": [
      "훈련 세트 정확도: 0.918\n"
     ]
    }
   ],
   "source": [
    "print(\"훈련 세트 정확도: {:.3f}\".format(tree.score(x_train, y_train)))"
   ]
  },
  {
   "cell_type": "code",
   "execution_count": 8,
   "metadata": {
    "scrolled": false
   },
   "outputs": [
    {
     "name": "stdout",
     "output_type": "stream",
     "text": [
      "크로스발리데이션 세트 정확도: 0.620\n"
     ]
    }
   ],
   "source": [
    "print(\"크로스발리데이션 세트 정확도: {:.3f}\".format(tree.score(x_cv, y_cv)))"
   ]
  },
  {
   "cell_type": "code",
   "execution_count": 9,
   "metadata": {
    "scrolled": true
   },
   "outputs": [
    {
     "name": "stdout",
     "output_type": "stream",
     "text": [
      "특성 중요도:\n",
      "[2.20966413e-01 2.10657349e-02 2.18954458e-02 3.35071626e-02\n",
      " 4.33474455e-02 1.13837048e-01 2.13866604e-01 4.14242216e-02\n",
      " 1.82320158e-03 1.30064697e-03 2.23400982e-03 3.32132424e-03\n",
      " 8.31400317e-03 7.20969936e-03 2.12763106e-03 9.54635168e-03\n",
      " 2.57334721e-03 3.18287263e-03 3.73176786e-04 2.81657906e-02\n",
      " 3.34401682e-02 1.14694678e-03 8.51015860e-03 2.13003882e-03\n",
      " 1.24103445e-02 1.67040463e-04 2.07710535e-02 5.24490112e-02\n",
      " 4.47851042e-03 2.52169542e-02 1.05894205e-02 1.93422325e-04\n",
      " 3.65271256e-02 5.12387111e-04 1.13752871e-02]\n"
     ]
    }
   ],
   "source": [
    "print(\"특성 중요도:\\n{}\".format(tree.feature_importances_))"
   ]
  },
  {
   "cell_type": "code",
   "execution_count": 13,
   "metadata": {},
   "outputs": [],
   "source": [
    "def plot_feature_importances(model):\n",
    "    n_features = 35\n",
    "    plt.barh(range(n_features), model.feature_importances_, align='center')\n",
    "    plt.yticks(np.arange(n_features), list(range(35)))\n",
    "    plt.xlabel(\"feature importances\")\n",
    "    plt.ylabel(\"feature index\")\n",
    "    plt.ylim(-1, n_features)"
   ]
  },
  {
   "cell_type": "code",
   "execution_count": 14,
   "metadata": {},
   "outputs": [
    {
     "data": {
      "image/png": "[encoded data removed]",
      "text/plain": [
       "<Figure size 432x288 with 1 Axes>"
      ]
     },
     "metadata": {},
     "output_type": "display_data"
    }
   ],
   "source": [
    "plot_feature_importances(tree)"
   ]
  },
  {
   "cell_type": "markdown",
   "metadata": {},
   "source": [
    "### 테스트 데이터 로드\n",
    "---"
   ]
  },
  {
   "cell_type": "code",
   "execution_count": 14,
   "metadata": {},
   "outputs": [],
   "source": [
    "# 테스트 데이터 로드\n",
    "x_test_temp = pd.read_csv('C:\\\\Users\\\\zeus_\\\\Desktop\\\\champion_data\\\\test\\\\test_activity.csv').sort_values(by='acc_id', ascending=True)"
   ]
  },
  {
   "cell_type": "code",
   "execution_count": 16,
   "metadata": {},
   "outputs": [],
   "source": [
    "#value\n",
    "x_test = x_test_temp.groupby(by='acc_id').mean().values"
   ]
  },
  {
   "cell_type": "code",
   "execution_count": 36,
   "metadata": {},
   "outputs": [],
   "source": [
    "#예측\n",
    "label = tree.predict(x_test)"
   ]
  },
  {
   "cell_type": "code",
   "execution_count": 37,
   "metadata": {},
   "outputs": [],
   "source": [
    "acc_id = x_test_temp.groupby(by='acc_id').mean().index\n",
    "\n",
    "data = {'acc_id':acc_id, 'label':label}"
   ]
  },
  {
   "cell_type": "code",
   "execution_count": 39,
   "metadata": {},
   "outputs": [],
   "source": [
    "result = pd.DataFrame(data)"
   ]
  },
  {
   "cell_type": "code",
   "execution_count": 40,
   "metadata": {},
   "outputs": [],
   "source": [
    "result.to_csv('C:\\\\Users\\\\zeus_\\\\Desktop\\\\champion_data\\\\test\\\\result\\\\03_simple_decision_tree.csv')"
   ]
  }
 ],
 "metadata": {
  "kernelspec": {
   "display_name": "Python 3",
   "language": "python",
   "name": "python3"
  },
  "language_info": {
   "codemirror_mode": {
    "name": "ipython",
    "version": 3
   },
   "file_extension": ".py",
   "mimetype": "text/x-python",
   "name": "python",
   "nbconvert_exporter": "python",
   "pygments_lexer": "ipython3",
   "version": "3.6.3"
  }
 },
 "nbformat": 4,
 "nbformat_minor": 2
}
