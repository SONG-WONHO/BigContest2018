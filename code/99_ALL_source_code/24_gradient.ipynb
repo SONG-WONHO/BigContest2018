{
 "cells": [
  {
   "cell_type": "code",
   "execution_count": 2,
   "metadata": {},
   "outputs": [
    {
     "name": "stdout",
     "output_type": "stream",
     "text": [
      "package 'keras' successfully unpacked and MD5 sums checked\n",
      "\n",
      "The downloaded binary packages are in\n",
      "\tC:\\Users\\zeus_\\AppData\\Local\\Temp\\RtmpmMmMm6\\downloaded_packages\n"
     ]
    },
    {
     "ename": "ERROR",
     "evalue": "Error: Keras installation failed (no conda binary found)\n\nInstall Anaconda for Python 3.x (https://www.anaconda.com/download/#windows)\nbefore installing Keras.\n",
     "output_type": "error",
     "traceback": [
      "Error: Keras installation failed (no conda binary found)\n\nInstall Anaconda for Python 3.x (https://www.anaconda.com/download/#windows)\nbefore installing Keras.\nTraceback:\n",
      "1. install_keras()",
      "2. stop(\"Keras installation failed (no conda binary found)\\n\\n\", \n .     \"Install Anaconda for Python 3.x (https://www.anaconda.com/download/#windows)\\n\", \n .     \"before installing Keras.\", call. = FALSE)"
     ]
    }
   ],
   "source": [
    "install.packages('keras')\n",
    "library(keras)\n",
    "install_keras()"
   ]
  },
  {
   "cell_type": "code",
   "execution_count": null,
   "metadata": {},
   "outputs": [],
   "source": [
    "mnist <- dataset_mnist()"
   ]
  },
  {
   "cell_type": "code",
   "execution_count": null,
   "metadata": {},
   "outputs": [],
   "source": [
    "image_train <- mnist$train$x\n",
    "label_train <- mnist$train$y"
   ]
  },
  {
   "cell_type": "code",
   "execution_count": null,
   "metadata": {},
   "outputs": [],
   "source": [
    "image_test <- mnist$test$x\n",
    "label_test <- mnist$test$y"
   ]
  },
  {
   "cell_type": "code",
   "execution_count": null,
   "metadata": {},
   "outputs": [],
   "source": [
    "image_train <- image_train / 255\n",
    "image_test <- image_test / 255"
   ]
  },
  {
   "cell_type": "code",
   "execution_count": null,
   "metadata": {},
   "outputs": [],
   "source": [
    "label_train <- to_categorical(label_train)\n",
    "label_test <- to_categorical(label_test)"
   ]
  },
  {
   "cell_type": "code",
   "execution_count": null,
   "metadata": {},
   "outputs": [],
   "source": [
    "image_train <- array_reshape(image_train, c(nrow(image_train), 784))\n",
    "image_test <- array_reshape(image_test, c(nrow(image_test), 784))"
   ]
  },
  {
   "cell_type": "code",
   "execution_count": null,
   "metadata": {},
   "outputs": [],
   "source": [
    "Model <- keras_model_sequential() %>% \n",
    "    layer_dense(units=20, activation = 'relu', input_shape = 784) %>%\n",
    "    layer_dense(units=10, activation = 'relu') %>%\n",
    "    layer_dense(units=10, activation = 'softmax') %>%\n",
    "    compile(loss = 'categorical_crossentropy', optimizer = 'adam', metric = 'accuracy', validation_split=0.2) "
   ]
  },
  {
   "cell_type": "code",
   "execution_count": null,
   "metadata": {},
   "outputs": [],
   "source": [
    "history <- fit(Model, image_train, label_train, batch_size = 128, epoch = 10)"
   ]
  },
  {
   "cell_type": "code",
   "execution_count": null,
   "metadata": {},
   "outputs": [],
   "source": [
    "plot(history)"
   ]
  },
  {
   "cell_type": "code",
   "execution_count": null,
   "metadata": {},
   "outputs": [],
   "source": [
    "Encoder <- keras_model_sequential() %>%\n",
    "    layer_dens()"
   ]
  },
  {
   "cell_type": "code",
   "execution_count": null,
   "metadata": {},
   "outputs": [],
   "source": [
    "Decoder <- Encoder %>%\n",
    "    layer_dense()"
   ]
  },
  {
   "cell_type": "code",
   "execution_count": null,
   "metadata": {},
   "outputs": [],
   "source": [
    "Model <- compile(Mode)"
   ]
  }
 ],
 "metadata": {
  "kernelspec": {
   "display_name": "R",
   "language": "R",
   "name": "ir"
  },
  "language_info": {
   "codemirror_mode": "r",
   "file_extension": ".r",
   "mimetype": "text/x-r-source",
   "name": "R",
   "pygments_lexer": "r",
   "version": "3.5.1"
  }
 },
 "nbformat": 4,
 "nbformat_minor": 2
}
