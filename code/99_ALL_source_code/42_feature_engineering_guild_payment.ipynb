{
 "cells": [
  {
   "cell_type": "code",
   "execution_count": 1,
   "metadata": {},
   "outputs": [],
   "source": [
    "# module 임포트\n",
    "import pandas as pd\n",
    "import numpy as np\n",
    "import matplotlib.pyplot as plt\n",
    "import seaborn as sns"
   ]
  },
  {
   "cell_type": "markdown",
   "metadata": {},
   "source": [
    "## 뼈대!"
   ]
  },
  {
   "cell_type": "code",
   "execution_count": 2,
   "metadata": {},
   "outputs": [],
   "source": [
    "train_acc_id = pd.read_csv('C:\\\\Users\\\\zeus_\\\\Desktop\\\\champion_data\\\\train\\\\train_activity_704.csv').acc_id\n",
    "test_acc_id = pd.read_csv('C:\\\\Users\\\\zeus_\\\\Desktop\\\\champion_data\\\\test\\\\test_activity_704.csv').acc_id"
   ]
  },
  {
   "cell_type": "code",
   "execution_count": 3,
   "metadata": {},
   "outputs": [],
   "source": [
    "#뼈대 만들기\n",
    "train_acc_id = train_acc_id.to_frame()\n",
    "test_acc_id = test_acc_id.to_frame()"
   ]
  },
  {
   "cell_type": "code",
   "execution_count": 4,
   "metadata": {},
   "outputs": [],
   "source": [
    "train_acc_id.index = train_acc_id['acc_id']\n",
    "test_acc_id.index = test_acc_id['acc_id']"
   ]
  },
  {
   "cell_type": "code",
   "execution_count": 5,
   "metadata": {},
   "outputs": [],
   "source": [
    "train_acc_id = train_acc_id.drop(['acc_id'], axis = 1)\n",
    "test_acc_id = test_acc_id.drop(['acc_id'], axis = 1)"
   ]
  },
  {
   "cell_type": "markdown",
   "metadata": {},
   "source": [
    "## 길드!"
   ]
  },
  {
   "cell_type": "code",
   "execution_count": 6,
   "metadata": {},
   "outputs": [],
   "source": [
    "train_acc_id['guild_cnt'] = 0\n",
    "test_acc_id['guild_cnt'] = 0"
   ]
  },
  {
   "cell_type": "code",
   "execution_count": 7,
   "metadata": {},
   "outputs": [],
   "source": [
    "# 길드 dataset 로딩\n",
    "train_guild_load = pd.read_csv('C:\\\\Users\\\\zeus_\\\\Desktop\\\\champion_data\\\\train\\\\train_guild.csv')\n",
    "test_guild_load = pd.read_csv('C:\\\\Users\\\\zeus_\\\\Desktop\\\\champion_data\\\\test\\\\test_guild.csv')"
   ]
  },
  {
   "cell_type": "code",
   "execution_count": 8,
   "metadata": {},
   "outputs": [],
   "source": [
    "train_guild = train_guild_load\n",
    "test_guild = test_guild_load"
   ]
  },
  {
   "cell_type": "code",
   "execution_count": 9,
   "metadata": {},
   "outputs": [],
   "source": [
    "for gid in train_guild.guild_member_acc_id:\n",
    "    \n",
    "    for value in gid.split(','):\n",
    "        try:\n",
    "            train_acc_id.loc[value, 'guild_cnt'] += 1\n",
    "        except:\n",
    "            pass"
   ]
  },
  {
   "cell_type": "code",
   "execution_count": 10,
   "metadata": {},
   "outputs": [],
   "source": [
    "for gid in test_guild.guild_member_acc_id:\n",
    "    \n",
    "    for value in gid.split(','):\n",
    "        try:\n",
    "            test_acc_id.loc[value, 'guild_cnt'] += 1\n",
    "        except:\n",
    "            pass"
   ]
  },
  {
   "cell_type": "markdown",
   "metadata": {},
   "source": [
    "## 지불!"
   ]
  },
  {
   "cell_type": "code",
   "execution_count": 11,
   "metadata": {},
   "outputs": [],
   "source": [
    "def select_2min_value(train_column, test_column):\n",
    "    train = list(set(train_column))\n",
    "    test = list(set(test_column))\n",
    "    \n",
    "    train.sort()\n",
    "    test.sort()\n",
    "    \n",
    "    result = []\n",
    "    result.extend(train[0:2])\n",
    "    result.extend(test[0:2])\n",
    "    \n",
    "    result = list(set(result))\n",
    "    result.sort()\n",
    "    return result[0:2]"
   ]
  },
  {
   "cell_type": "code",
   "execution_count": 12,
   "metadata": {},
   "outputs": [],
   "source": [
    "# 길드 dataset 로딩\n",
    "train_payment_load = pd.read_csv('C:\\\\Users\\\\zeus_\\\\Desktop\\\\champion_data\\\\train\\\\train_payment.csv').sort_values(by='acc_id', ascending=True)\n",
    "test_payment_load = pd.read_csv('C:\\\\Users\\\\zeus_\\\\Desktop\\\\champion_data\\\\test\\\\test_payment.csv').sort_values(by='acc_id', ascending=True)"
   ]
  },
  {
   "cell_type": "code",
   "execution_count": 13,
   "metadata": {},
   "outputs": [],
   "source": [
    "train_payment = train_payment_load\n",
    "test_payment = test_payment_load"
   ]
  },
  {
   "cell_type": "code",
   "execution_count": 14,
   "metadata": {},
   "outputs": [],
   "source": [
    "two_min = select_2min_value(train_payment.payment_amount, test_payment.payment_amount)"
   ]
  },
  {
   "cell_type": "code",
   "execution_count": 15,
   "metadata": {},
   "outputs": [],
   "source": [
    "train_payment.payment_amount = np.around((train_payment.payment_amount - two_min[0])/(two_min[1] - two_min[0]) * 33)\n",
    "test_payment.payment_amount = np.around((test_payment.payment_amount - two_min[0])/(two_min[1] - two_min[0]) * 33)"
   ]
  },
  {
   "cell_type": "code",
   "execution_count": 16,
   "metadata": {},
   "outputs": [],
   "source": [
    "train_temp = train_payment[train_payment['payment_week'] == 1].drop(['payment_week', 'payment_amount'], axis=1)\n",
    "test_temp = test_payment[test_payment['payment_week'] == 1].drop(['payment_week', 'payment_amount'], axis=1)"
   ]
  },
  {
   "cell_type": "code",
   "execution_count": 17,
   "metadata": {},
   "outputs": [],
   "source": [
    "for i in range(1,9):\n",
    "    train_temp['payment_amount_' + str(i)] = train_payment[train_payment['payment_week'] == i].payment_amount.values\n",
    "    test_temp['payment_amount_' + str(i)] = test_payment[test_payment['payment_week'] == i].payment_amount.values"
   ]
  },
  {
   "cell_type": "code",
   "execution_count": 18,
   "metadata": {},
   "outputs": [],
   "source": [
    "train_result = pd.merge(train_acc_id, train_temp, how = 'inner', on = 'acc_id')\n",
    "test_result = pd.merge(test_acc_id, test_temp, how = 'inner', on = 'acc_id')"
   ]
  },
  {
   "cell_type": "code",
   "execution_count": 24,
   "metadata": {},
   "outputs": [],
   "source": [
    "train_result['is_payment'] = np.sum(train_result.loc[:,'payment_amount_1':], axis=1) > 0\n",
    "test_result['is_payment'] = np.sum(test_result.loc[:,'payment_amount_1':], axis=1) > 0"
   ]
  },
  {
   "cell_type": "code",
   "execution_count": 27,
   "metadata": {},
   "outputs": [],
   "source": [
    "train_result.to_csv('C:\\\\Users\\\\zeus_\\\\Desktop\\\\champion_data\\\\train\\\\train_guild_payment.csv')\n",
    "test_result.to_csv('C:\\\\Users\\\\zeus_\\\\Desktop\\\\champion_data\\\\test\\\\test_guild_payment.csv')"
   ]
  }
 ],
 "metadata": {
  "kernelspec": {
   "display_name": "Python 3",
   "language": "python",
   "name": "python3"
  },
  "language_info": {
   "codemirror_mode": {
    "name": "ipython",
    "version": 3
   },
   "file_extension": ".py",
   "mimetype": "text/x-python",
   "name": "python",
   "nbconvert_exporter": "python",
   "pygments_lexer": "ipython3",
   "version": "3.6.3"
  }
 },
 "nbformat": 4,
 "nbformat_minor": 2
}
