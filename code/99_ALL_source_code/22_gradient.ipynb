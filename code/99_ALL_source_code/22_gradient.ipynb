{
 "cells": [
  {
   "cell_type": "code",
   "execution_count": 1,
   "metadata": {},
   "outputs": [],
   "source": [
    "train_activity <- read.csv('C:\\\\Users\\\\zeus_\\\\Desktop\\\\champion_data\\\\train\\\\train_activity.csv')\n",
    "label <- read.csv('C:\\\\Users\\\\zeus_\\\\Desktop\\\\champion_data\\\\train\\\\train_label.csv')"
   ]
  },
  {
   "cell_type": "code",
   "execution_count": 2,
   "metadata": {},
   "outputs": [],
   "source": [
    "train_activity$acc_id <- as.character(train_activity$acc_id)"
   ]
  },
  {
   "cell_type": "code",
   "execution_count": 3,
   "metadata": {},
   "outputs": [],
   "source": [
    "temp <- NULL"
   ]
  },
  {
   "cell_type": "code",
   "execution_count": 4,
   "metadata": {},
   "outputs": [],
   "source": [
    "temp = cbind(temp,tapply(train_activity$play_time, train_activity$acc_id, sd))"
   ]
  },
  {
   "cell_type": "code",
   "execution_count": 6,
   "metadata": {},
   "outputs": [],
   "source": [
    "temp <- data.frame(acc_id = row.names(temp), temp)"
   ]
  },
  {
   "cell_type": "code",
   "execution_count": 9,
   "metadata": {},
   "outputs": [],
   "source": [
    "names(temp)[2] <- \"play_time_mean\""
   ]
  },
  {
   "cell_type": "code",
   "execution_count": 12,
   "metadata": {},
   "outputs": [],
   "source": [
    "temp <- cbind(temp, get_money_mean = tapply(train_activity$get_money, train_activity$acc_id, mean))"
   ]
  },
  {
   "cell_type": "code",
   "execution_count": 13,
   "metadata": {},
   "outputs": [],
   "source": [
    "temp <- cbind(temp, get_money_mean = tapply(train_activity$get_money, train_activity$acc_id, sd))"
   ]
  },
  {
   "cell_type": "code",
   "execution_count": 14,
   "metadata": {},
   "outputs": [],
   "source": [
    "temp = cbind(temp,tapply(train_activity$play_time, train_activity$acc_id, mean))"
   ]
  },
  {
   "cell_type": "code",
   "execution_count": 17,
   "metadata": {},
   "outputs": [
    {
     "name": "stderr",
     "output_type": "stream",
     "text": [
      "Warning message in merge.data.frame(temp, label, by = \"acc_id\"):\n",
      "\"column name 'get_money_mean' is duplicated in the result\""
     ]
    }
   ],
   "source": [
    "train_activity <- merge(temp, label, by='acc_id')"
   ]
  },
  {
   "cell_type": "code",
   "execution_count": 29,
   "metadata": {},
   "outputs": [],
   "source": [
    "names(train_activity)[3] = \"ahd\""
   ]
  },
  {
   "cell_type": "code",
   "execution_count": 30,
   "metadata": {},
   "outputs": [],
   "source": [
    "set.seed(10)\n",
    "train <- sample(1:nrow(temp), 0.8 * nrow(temp))"
   ]
  },
  {
   "cell_type": "code",
   "execution_count": 31,
   "metadata": {},
   "outputs": [],
   "source": [
    "library(ranger)"
   ]
  },
  {
   "cell_type": "code",
   "execution_count": 32,
   "metadata": {},
   "outputs": [
    {
     "ename": "ERROR",
     "evalue": "Error in terms.formula(f, data = data): '.'를 이용한 데이터 프레임에서 중복된 이름 'get_money_mean'을 발견했습니다\n",
     "output_type": "error",
     "traceback": [
      "Error in terms.formula(f, data = data): '.'를 이용한 데이터 프레임에서 중복된 이름 'get_money_mean'을 발견했습니다\nTraceback:\n",
      "1. ranger(label ~ ., data = temp[train, ])",
      "2. parse.formula(formula, data)",
      "3. terms(f, data = data)",
      "4. terms.formula(f, data = data)"
     ]
    }
   ],
   "source": [
    "Model = ranger(label~., data = temp[train,])"
   ]
  },
  {
   "cell_type": "code",
   "execution_count": null,
   "metadata": {},
   "outputs": [],
   "source": [
    "pred <- prediction(Model, temp[-train, ])$predictions"
   ]
  },
  {
   "cell_type": "code",
   "execution_count": null,
   "metadata": {},
   "outputs": [],
   "source": [
    "real <- temp$label[-train]"
   ]
  }
 ],
 "metadata": {
  "kernelspec": {
   "display_name": "R",
   "language": "R",
   "name": "ir"
  },
  "language_info": {
   "codemirror_mode": "r",
   "file_extension": ".r",
   "mimetype": "text/x-r-source",
   "name": "R",
   "pygments_lexer": "r",
   "version": "3.5.1"
  }
 },
 "nbformat": 4,
 "nbformat_minor": 2
}
