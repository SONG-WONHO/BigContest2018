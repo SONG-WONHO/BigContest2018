{
 "cells": [
  {
   "cell_type": "code",
   "execution_count": 1,
   "metadata": {},
   "outputs": [],
   "source": [
    "# 모듈 임포트\n",
    "import pandas as pd\n",
    "import numpy as np\n",
    "import tensorflow as tf\n",
    "from tensorflow.contrib import layers"
   ]
  },
  {
   "cell_type": "code",
   "execution_count": 2,
   "metadata": {},
   "outputs": [],
   "source": [
    "# 트레이닝 데이터 로드\n",
    "x_data = pd.read_csv('C:\\\\Users\\\\zeus_\\\\Desktop\\\\champion_data\\\\train\\\\train_activity.csv').sort_values(by='acc_id', ascending=True)\n",
    "y_data = pd.read_csv('C:\\\\Users\\\\zeus_\\\\Desktop\\\\champion_data\\\\train\\\\train_label.csv').sort_values(by='acc_id', ascending=True)"
   ]
  },
  {
   "cell_type": "code",
   "execution_count": 3,
   "metadata": {},
   "outputs": [],
   "source": [
    "# 트레이닝데이터 아이디별로 그룹화 및 평균\n",
    "# 데이터의 시계열 특성이 사라지지만, 빨리 단순 회귀 모형을 볼 수 있음\n",
    "x_data = x_data.groupby(by='acc_id').mean().values\n",
    "y_data = y_data.label.values"
   ]
  },
  {
   "cell_type": "code",
   "execution_count": 4,
   "metadata": {},
   "outputs": [],
   "source": [
    "#트레이닝셋, 발리데이션셋 구분\n",
    "x_train = x_data[0:int(0.7 * len(x_data)),:]\n",
    "y_train = y_data[0:int(0.7 * len(x_data))]\n",
    "\n",
    "x_cv = x_data[int(0.7 * len(x_data)):,:]\n",
    "y_cv = y_data[int(0.7 * len(x_data)):]"
   ]
  },
  {
   "cell_type": "code",
   "execution_count": 5,
   "metadata": {},
   "outputs": [],
   "source": [
    "#한국어로 된 레이블을 숫자로 인코딩\n",
    "idx2label = list(set(y_train))\n",
    "label2idx = {c:i for i,c in enumerate(idx2label)}\n",
    "\n",
    "#new y_train & y_cv\n",
    "y_train = [label2idx[v] for v in y_train]\n",
    "y_cv = [label2idx[v] for v in y_cv]"
   ]
  },
  {
   "cell_type": "markdown",
   "metadata": {},
   "source": [
    "### CONSTANT\n",
    "---"
   ]
  },
  {
   "cell_type": "code",
   "execution_count": 90,
   "metadata": {},
   "outputs": [],
   "source": [
    "# 레이블 개수\n",
    "num_feature = len(x_train[0])\n",
    "learning_rate = 0.01\n",
    "training_epoch = 100\n",
    "batch_size = 100\n",
    "label = len(idx2label)"
   ]
  },
  {
   "cell_type": "markdown",
   "metadata": {},
   "source": [
    "### TENSORFLOW\n",
    "---"
   ]
  },
  {
   "cell_type": "code",
   "execution_count": 127,
   "metadata": {},
   "outputs": [],
   "source": [
    "X = tf.placeholder(tf.float32, [None, num_feature])\n",
    "Y = tf.placeholder(tf.int32, [None])\n",
    "keep_prob = tf.placeholder(tf.float32)"
   ]
  },
  {
   "cell_type": "code",
   "execution_count": 128,
   "metadata": {},
   "outputs": [],
   "source": [
    "#Y_one_hot\n",
    "Y_one_hot = tf.one_hot(Y, label)"
   ]
  },
  {
   "cell_type": "code",
   "execution_count": 129,
   "metadata": {},
   "outputs": [],
   "source": [
    "#Layer1\n",
    "with tf.name_scope('layer1') as scope:\n",
    "    w1 = tf.get_variable(\"weight1\", [num_feature, 64], tf.float32, layers.xavier_initializer())\n",
    "    b1 = tf.Variable(tf.random_normal([64]), name = \"bias1\")\n",
    "    \n",
    "    layer1 = tf.nn.relu(tf.matmul(X,w1) + b1)\n",
    "    layer1 = tf.nn.dropout(layer1, keep_prob)"
   ]
  },
  {
   "cell_type": "code",
   "execution_count": 130,
   "metadata": {},
   "outputs": [],
   "source": [
    "#Layer2\n",
    "with tf.name_scope('layer2') as scope:\n",
    "    w2 = tf.get_variable(\"weight2\", [64, 32], tf.float32, layers.xavier_initializer())\n",
    "    b2 = tf.Variable(tf.random_normal([32]), name = \"bias2\")\n",
    "    \n",
    "    layer2 = tf.nn.relu(tf.matmul(layer1,w2) + b2)\n",
    "    layer2 = tf.nn.dropout(layer2, keep_prob)"
   ]
  },
  {
   "cell_type": "code",
   "execution_count": 131,
   "metadata": {},
   "outputs": [],
   "source": [
    "#Layer3\n",
    "with tf.name_scope('layer3') as scope:\n",
    "    w3 = tf.get_variable(\"weight3\", [32, 16], tf.float32, layers.xavier_initializer())\n",
    "    b3 = tf.Variable(tf.random_normal([16]), name = \"bias3\")\n",
    "    \n",
    "    layer3 = tf.nn.relu(tf.matmul(layer2,w3) + b3)\n",
    "    layer3 = tf.nn.dropout(layer3, keep_prob)"
   ]
  },
  {
   "cell_type": "code",
   "execution_count": 132,
   "metadata": {},
   "outputs": [],
   "source": [
    "#Layer4\n",
    "with tf.name_scope('layer4') as scope:\n",
    "    w4 = tf.get_variable(\"weight4\", [16, 8], tf.float32, layers.xavier_initializer())\n",
    "    b4 = tf.Variable(tf.random_normal([8]), name = \"bias4\")\n",
    "    \n",
    "    layer4 = tf.nn.relu(tf.matmul(layer3,w4) + b4)\n",
    "    layer4 = tf.nn.dropout(layer4, keep_prob)"
   ]
  },
  {
   "cell_type": "code",
   "execution_count": 133,
   "metadata": {},
   "outputs": [],
   "source": [
    "#hypothesis\n",
    "with tf.name_scope('hypothesis') as scope:\n",
    "    w5 = tf.get_variable(\"weight5\", [8, label], tf.float32, layers.xavier_initializer())\n",
    "    b5 = tf.Variable(tf.random_normal([label]), name = \"bias5\")\n",
    "    \n",
    "    logits = tf.matmul(layer4, w5) + b5"
   ]
  },
  {
   "cell_type": "code",
   "execution_count": 134,
   "metadata": {},
   "outputs": [],
   "source": [
    "#Cost Function - softmax cross entropy\n",
    "with tf.name_scope(\"cost\") as scope:\n",
    "    cost = tf.nn.softmax_cross_entropy_with_logits_v2(logits=logits, labels=Y_one_hot)\n",
    "    cost = tf.reduce_mean(cost)\n",
    "    tf.summary.scalar(\"cost\", cost)"
   ]
  },
  {
   "cell_type": "code",
   "execution_count": 135,
   "metadata": {},
   "outputs": [],
   "source": [
    "#Train - Gradient Descent\n",
    "with tf.name_scope(\"train\") as scope:\n",
    "    optimizer = tf.train.GradientDescentOptimizer(learning_rate)\n",
    "    train = optimizer.minimize(cost)"
   ]
  },
  {
   "cell_type": "code",
   "execution_count": 136,
   "metadata": {},
   "outputs": [],
   "source": [
    "#Prediction\n",
    "prediction = tf.argmax(logits, -1)"
   ]
  },
  {
   "cell_type": "code",
   "execution_count": 137,
   "metadata": {},
   "outputs": [],
   "source": [
    "#Accuracy\n",
    "with tf.name_scope(\"accuracy\") as scope:\n",
    "    accuracy = tf.reduce_mean(tf.cast(tf.equal(prediction, tf.argmax(Y_one_hot,-1)), tf.float32))\n",
    "    tf.summary.scalar(\"accuracy\", accuracy)"
   ]
  },
  {
   "cell_type": "markdown",
   "metadata": {},
   "source": [
    "### 저장!!!\n",
    "---"
   ]
  },
  {
   "cell_type": "code",
   "execution_count": 138,
   "metadata": {},
   "outputs": [],
   "source": [
    "saver = tf.train.Saver()"
   ]
  },
  {
   "cell_type": "markdown",
   "metadata": {},
   "source": [
    "### 학습 !!!\n",
    "---"
   ]
  },
  {
   "cell_type": "code",
   "execution_count": 139,
   "metadata": {
    "scrolled": true
   },
   "outputs": [
    {
     "name": "stdout",
     "output_type": "stream",
     "text": [
      "[epoch : 0]  cost 1.3201327066762112\n",
      "[epoch : 1]  cost 1.1805469095706944\n",
      "[epoch : 2]  cost 1.128007692268918\n",
      "[epoch : 3]  cost 1.0970134280409136\n",
      "[epoch : 4]  cost 1.080416272963797\n",
      "[epoch : 5]  cost 1.0654125440120705\n",
      "[epoch : 6]  cost 1.0567918401105054\n",
      "[epoch : 7]  cost 1.0447269667897905\n",
      "[epoch : 8]  cost 1.0305627888441096\n",
      "[epoch : 9]  cost 1.0241546753474642\n",
      "[epoch : 10]  cost 1.0175259153332015\n",
      "[epoch : 11]  cost 1.0168994973387033\n",
      "[epoch : 12]  cost 1.0117021467855998\n",
      "[epoch : 13]  cost 1.0051672978060582\n",
      "[epoch : 14]  cost 1.0007153643880569\n",
      "[epoch : 15]  cost 0.9966269832849494\n",
      "[epoch : 16]  cost 0.992397767986571\n",
      "[epoch : 17]  cost 0.9921547661508833\n",
      "[epoch : 18]  cost 0.9886026209592821\n",
      "[epoch : 19]  cost 0.9802987213645661\n",
      "[epoch : 20]  cost 0.9859412051950182\n",
      "[epoch : 21]  cost 0.978964198827743\n",
      "[epoch : 22]  cost 0.9747651772839684\n",
      "[epoch : 23]  cost 0.9714485952683858\n",
      "[epoch : 24]  cost 0.9692179096596585\n",
      "[epoch : 25]  cost 0.9709649121761316\n",
      "[epoch : 26]  cost 0.9672778275183261\n",
      "[epoch : 27]  cost 0.9659347753865376\n",
      "[epoch : 28]  cost 0.963313608510154\n",
      "[epoch : 29]  cost 0.9598761443580893\n",
      "[epoch : 30]  cost 0.9605568684850416\n",
      "[epoch : 31]  cost 0.955790637390954\n",
      "[epoch : 32]  cost 0.9528186603103368\n",
      "[epoch : 33]  cost 0.9503437807730273\n",
      "[epoch : 34]  cost 0.9497332254477908\n",
      "[epoch : 35]  cost 0.9507330255849014\n",
      "[epoch : 36]  cost 0.9476918712684085\n",
      "[epoch : 37]  cost 0.94832384978022\n",
      "[epoch : 38]  cost 0.9433392553670065\n",
      "[epoch : 39]  cost 0.9446804030452451\n",
      "[epoch : 40]  cost 0.944308003272329\n",
      "[epoch : 41]  cost 0.9439413714408889\n",
      "[epoch : 42]  cost 0.9392393294402539\n",
      "[epoch : 43]  cost 0.9380222020830424\n",
      "[epoch : 44]  cost 0.941436549680573\n",
      "[epoch : 45]  cost 0.9377924365656709\n",
      "[epoch : 46]  cost 0.9397750735282897\n",
      "[epoch : 47]  cost 0.9401855602434698\n",
      "[epoch : 48]  cost 0.9348688496010646\n",
      "[epoch : 49]  cost 0.9373915763412201\n",
      "[epoch : 50]  cost 0.9341280087402887\n",
      "[epoch : 51]  cost 0.9375983143704286\n",
      "[epoch : 52]  cost 0.9332743252175196\n",
      "[epoch : 53]  cost 0.932395139081136\n",
      "[epoch : 54]  cost 0.9316168130295617\n",
      "[epoch : 55]  cost 0.9314931366273337\n",
      "[epoch : 56]  cost 0.9287225693464267\n",
      "[epoch : 57]  cost 0.9325185499872478\n",
      "[epoch : 58]  cost 0.9324777413266051\n",
      "[epoch : 59]  cost 0.929785130109106\n",
      "[epoch : 60]  cost 0.928889122435025\n",
      "[epoch : 61]  cost 0.9261059389795577\n",
      "[epoch : 62]  cost 0.9271980598143166\n",
      "[epoch : 63]  cost 0.9312555015087131\n",
      "[epoch : 64]  cost 0.9264935624599455\n",
      "[epoch : 65]  cost 0.928258518406323\n",
      "[epoch : 66]  cost 0.924529585753168\n",
      "[epoch : 67]  cost 0.9270219131026957\n",
      "[epoch : 68]  cost 0.9244735324382772\n",
      "[epoch : 69]  cost 0.9240434146778931\n",
      "[epoch : 70]  cost 0.9238692018815451\n",
      "[epoch : 71]  cost 0.9273832864420751\n",
      "[epoch : 72]  cost 0.9221801254578994\n",
      "[epoch : 73]  cost 0.9243134832382193\n",
      "[epoch : 74]  cost 0.9236813934360235\n",
      "[epoch : 75]  cost 0.9230757248401653\n",
      "[epoch : 76]  cost 0.9230612239667348\n",
      "[epoch : 77]  cost 0.9220456534624095\n",
      "[epoch : 78]  cost 0.9201748606136873\n",
      "[epoch : 79]  cost 0.9240104327031544\n",
      "[epoch : 80]  cost 0.9200855829034538\n",
      "[epoch : 81]  cost 0.920124511463302\n",
      "[epoch : 82]  cost 0.9225186476537167\n",
      "[epoch : 83]  cost 0.9188769924640657\n",
      "[epoch : 84]  cost 0.9207120222704761\n",
      "[epoch : 85]  cost 0.9215913684879036\n",
      "[epoch : 86]  cost 0.9178224055256164\n",
      "[epoch : 87]  cost 0.919508156350681\n",
      "[epoch : 88]  cost 0.9168256568057193\n",
      "[epoch : 89]  cost 0.9184476150785182\n",
      "[epoch : 90]  cost 0.9188368346009933\n",
      "[epoch : 91]  cost 0.9208711975812911\n",
      "[epoch : 92]  cost 0.9219043587786823\n",
      "[epoch : 93]  cost 0.9165125444105697\n",
      "[epoch : 94]  cost 0.9164636860574994\n",
      "[epoch : 95]  cost 0.9177494432244993\n",
      "[epoch : 96]  cost 0.9160102553878515\n",
      "[epoch : 97]  cost 0.9193926162379131\n",
      "[epoch : 98]  cost 0.9167031461851941\n",
      "[epoch : 99]  cost 0.9190533953905111\n",
      "accuracy : 0.6415428519248962\n"
     ]
    }
   ],
   "source": [
    "with tf.Session() as sess:\n",
    "    sess.run(tf.global_variables_initializer())\n",
    "    \n",
    "    for epoch in range(training_epoch):\n",
    "        avg_cost = 0\n",
    "        total_batch = int(len(x_train) / batch_size)\n",
    "        \n",
    "        for i in range(total_batch):\n",
    "            batch_x = x_train[i*batch_size:(i+1)*batch_size]\n",
    "            batch_y = y_train[i*batch_size:(i+1)*batch_size]\n",
    "            \n",
    "            for i in range(5):\n",
    "                cost_val, _ = sess.run([cost, train], feed_dict={X:batch_x,Y:batch_y, keep_prob:0.7})\n",
    "            avg_cost += cost_val/total_batch\n",
    "        \n",
    "        print(\"[epoch : {}]  cost {}\".format(epoch, avg_cost))\n",
    "    \n",
    "    print(\"accuracy : {}\".format(sess.run(accuracy, feed_dict={X:x_train, Y:y_train, keep_prob:1})))\n",
    "    \n",
    "    saver.save(sess, './02_simple_neural_network/model.ckpt')"
   ]
  },
  {
   "cell_type": "markdown",
   "metadata": {},
   "source": [
    "### 텐서플로 그래프 초기화\n",
    "---"
   ]
  },
  {
   "cell_type": "code",
   "execution_count": 126,
   "metadata": {},
   "outputs": [],
   "source": [
    "tf.reset_default_graph()"
   ]
  },
  {
   "cell_type": "markdown",
   "metadata": {},
   "source": [
    "### 테스트 데이터\n",
    "---"
   ]
  },
  {
   "cell_type": "code",
   "execution_count": 140,
   "metadata": {},
   "outputs": [],
   "source": [
    "# 테스트 데이터 로드\n",
    "x_test_temp = pd.read_csv('C:\\\\Users\\\\zeus_\\\\Desktop\\\\champion_data\\\\test\\\\test_activity.csv').sort_values(by='acc_id', ascending=True)"
   ]
  },
  {
   "cell_type": "code",
   "execution_count": 144,
   "metadata": {},
   "outputs": [],
   "source": [
    "#label\n",
    "label = []"
   ]
  },
  {
   "cell_type": "code",
   "execution_count": 141,
   "metadata": {},
   "outputs": [],
   "source": [
    "#value\n",
    "x_test = x_test_temp.groupby(by='acc_id').mean().values"
   ]
  },
  {
   "cell_type": "code",
   "execution_count": 145,
   "metadata": {},
   "outputs": [
    {
     "name": "stdout",
     "output_type": "stream",
     "text": [
      "INFO:tensorflow:Restoring parameters from ./02_simple_neural_network/model.ckpt\n"
     ]
    }
   ],
   "source": [
    "with tf.Session() as sess:\n",
    "    saver.restore(sess, './02_simple_neural_network/model.ckpt')\n",
    "    \n",
    "    for v in sess.run(prediction, feed_dict={X:x_test, keep_prob:1}) :\n",
    "        label.append(idx2label[v])"
   ]
  },
  {
   "cell_type": "code",
   "execution_count": 146,
   "metadata": {},
   "outputs": [],
   "source": [
    "acc_id = x_test_temp.groupby(by='acc_id').mean().index\n",
    "\n",
    "data = {'acc_id':acc_id, 'label':label}"
   ]
  },
  {
   "cell_type": "code",
   "execution_count": 147,
   "metadata": {},
   "outputs": [],
   "source": [
    "result = pd.DataFrame(data)"
   ]
  },
  {
   "cell_type": "code",
   "execution_count": 150,
   "metadata": {},
   "outputs": [],
   "source": [
    "result.to_csv('C:\\\\Users\\\\zeus_\\\\Desktop\\\\champion_data\\\\test\\\\result\\\\02_simple_neural_network.csv')"
   ]
  }
 ],
 "metadata": {
  "kernelspec": {
   "display_name": "Python 3",
   "language": "python",
   "name": "python3"
  },
  "language_info": {
   "codemirror_mode": {
    "name": "ipython",
    "version": 3
   },
   "file_extension": ".py",
   "mimetype": "text/x-python",
   "name": "python",
   "nbconvert_exporter": "python",
   "pygments_lexer": "ipython3",
   "version": "3.6.3"
  }
 },
 "nbformat": 4,
 "nbformat_minor": 2
}
