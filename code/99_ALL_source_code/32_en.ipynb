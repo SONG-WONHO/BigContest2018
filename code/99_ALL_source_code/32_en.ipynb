{
 "cells": [
  {
   "cell_type": "code",
   "execution_count": 1,
   "metadata": {},
   "outputs": [],
   "source": [
    "import pandas as pd\n",
    "import numpy as np\n",
    "import matplotlib.pyplot as plt"
   ]
  },
  {
   "cell_type": "code",
   "execution_count": 4,
   "metadata": {},
   "outputs": [],
   "source": [
    "# 테스트 데이터 로드\n",
    "data = pd.read_csv('C:\\\\Users\\\\zeus_\\\\Desktop\\\\champion_data\\\\test\\\\result\\\\en.csv').sort_values(by='acc_id', ascending=True)"
   ]
  },
  {
   "cell_type": "code",
   "execution_count": 36,
   "metadata": {},
   "outputs": [],
   "source": [
    "def get_freq(value):\n",
    "    label_dic = [0,0,0,0] #month, 2month, week, retained\n",
    "    for i in range(1,8):\n",
    "        if value[\"label\" + str(i)] == \"month\":\n",
    "            label_dic[0] += 1\n",
    "        elif value[\"label\" + str(i)] == '2month':\n",
    "            label_dic[1] += 1\n",
    "        elif value[\"label\" + str(i)] == 'week':\n",
    "            label_dic[2] += 1\n",
    "        else:\n",
    "            label_dic[3] += 1\n",
    "    \n",
    "    logits = label_dic.index(max(label_dic))\n",
    "    if logits == 0:\n",
    "        return \"month\"\n",
    "    elif logits == 1:\n",
    "        return \"2month\"\n",
    "    elif logits == 2:\n",
    "        return \"week\"\n",
    "    else:\n",
    "        return \"retained\"\n",
    "    \n",
    "    \n",
    "    "
   ]
  },
  {
   "cell_type": "code",
   "execution_count": 39,
   "metadata": {},
   "outputs": [],
   "source": [
    "result = data.apply(get_freq, 1)"
   ]
  },
  {
   "cell_type": "code",
   "execution_count": 42,
   "metadata": {},
   "outputs": [],
   "source": [
    "acc_id = data.acc_id"
   ]
  },
  {
   "cell_type": "code",
   "execution_count": 47,
   "metadata": {},
   "outputs": [],
   "source": [
    "data = {'acc_id':acc_id.values, 'label':result.values}"
   ]
  },
  {
   "cell_type": "code",
   "execution_count": 50,
   "metadata": {},
   "outputs": [],
   "source": [
    "pd.DataFrame(data).to_csv('C:\\\\Users\\\\zeus_\\\\Desktop\\\\champion_data\\\\test\\\\result\\\\comb.csv')"
   ]
  }
 ],
 "metadata": {
  "kernelspec": {
   "display_name": "Python 3",
   "language": "python",
   "name": "python3"
  },
  "language_info": {
   "codemirror_mode": {
    "name": "ipython",
    "version": 3
   },
   "file_extension": ".py",
   "mimetype": "text/x-python",
   "name": "python",
   "nbconvert_exporter": "python",
   "pygments_lexer": "ipython3",
   "version": "3.6.3"
  }
 },
 "nbformat": 4,
 "nbformat_minor": 2
}
