{
 "cells": [
  {
   "cell_type": "markdown",
   "metadata": {},
   "source": [
    "# 모듈 불러오기"
   ]
  },
  {
   "cell_type": "code",
   "execution_count": 1,
   "metadata": {},
   "outputs": [],
   "source": [
    "# default module\n",
    "import pandas as pd\n",
    "import numpy as np\n",
    "import matplotlib.pyplot as plt\n",
    "import copy\n",
    "import random"
   ]
  },
  {
   "cell_type": "code",
   "execution_count": 2,
   "metadata": {},
   "outputs": [],
   "source": [
    "from sklearn.preprocessing import LabelEncoder\n",
    "from sklearn.preprocessing import OneHotEncoder\n",
    "\n",
    "from sklearn.metrics import confusion_matrix\n",
    "from sklearn.metrics import classification_report\n",
    "from sklearn.metrics import f1_score\n",
    "\n",
    "from sklearn.model_selection import cross_val_score\n",
    "from sklearn.model_selection import train_test_split\n",
    "from sklearn.model_selection import KFold"
   ]
  },
  {
   "cell_type": "code",
   "execution_count": 3,
   "metadata": {},
   "outputs": [],
   "source": [
    "#Our Model\n",
    "#Tree\n",
    "from sklearn.ensemble import RandomForestClassifier\n",
    "from sklearn.ensemble import ExtraTreesClassifier\n",
    "from sklearn.ensemble import GradientBoostingClassifier\n",
    "from xgboost import XGBClassifier\n",
    "import lightgbm as lgb\n",
    "\n",
    "#Regression\n",
    "from sklearn.linear_model import LogisticRegression\n",
    "\n",
    "#Svm\n",
    "from sklearn.svm import SVC"
   ]
  },
  {
   "cell_type": "markdown",
   "metadata": {},
   "source": [
    "##### CUSTOM FUNCTION"
   ]
  },
  {
   "cell_type": "code",
   "execution_count": 4,
   "metadata": {},
   "outputs": [],
   "source": [
    "def select_important_feautre(columns, feature_importance, num):\n",
    "    \n",
    "    #딕셔너리\n",
    "    dic = {}\n",
    "    for value in [list(v) for v in zip(columns, feature_importance)]:\n",
    "        dic[value[1]] = value[0] \n",
    "        \n",
    "    sorted_list = sorted(dic)\n",
    "    sorted_list.reverse()\n",
    "    \n",
    "    i = 0\n",
    "    result = []\n",
    "    for y in sorted_list:\n",
    "        result.append(dic[y])\n",
    "        i = i+1\n",
    "        if(i == num):\n",
    "            break\n",
    "    \n",
    "    return result"
   ]
  },
  {
   "cell_type": "code",
   "execution_count": 5,
   "metadata": {},
   "outputs": [],
   "source": [
    "def cross_val_score_custom(model, x, y, cv, dev = 0):\n",
    "    \n",
    "    print('\\n\\n')\n",
    "    \n",
    "    result = []\n",
    "    \n",
    "    for train_idx, test_idx in cv.split(x):\n",
    "        \n",
    "        new_x_train = x.iloc[train_idx, :]\n",
    "        new_y_train = y.iloc[train_idx]\n",
    "        \n",
    "        new_x_test = x.iloc[test_idx, :]\n",
    "        new_y_test = y.iloc[test_idx]\n",
    "        \n",
    "        model.fit(new_x_train, new_y_train)\n",
    "        \n",
    "        temp = np.mean(f1_score(new_y_test, model.predict(new_x_test), average=None))\n",
    "        \n",
    "        if dev:\n",
    "            print('dev Mode # : {}'.format(temp))\n",
    "        \n",
    "        result.append(temp)\n",
    "    \n",
    "    print('\\n\\n')\n",
    "    \n",
    "    return np.mean(result)"
   ]
  },
  {
   "cell_type": "code",
   "execution_count": 6,
   "metadata": {},
   "outputs": [],
   "source": [
    "def get_oof(model, x_train, y_train, x_test):\n",
    "    \n",
    "    le = LabelEncoder()\n",
    "    le.fit(y_train)\n",
    "    y_train = pd.Series(le.transform(y_train))\n",
    "    \n",
    "    oof_train = np.zeros((x_train_load_fin_v2.shape[0],))\n",
    "    oof_test = np.zeros((x_test_load_fin_v2.shape[0],))\n",
    "    oof_test_skf = np.empty((5, x_test_load_fin_v2.shape[0]))\n",
    "    \n",
    "    for i, (train_idx, test_idx) in enumerate(KFold(n_splits=5).split(x_train)):\n",
    "        \n",
    "        x_tr = x_train.iloc[train_idx, :]\n",
    "        y_tr = y_train.iloc[train_idx]\n",
    "        x_te = x_train.iloc[test_idx, :]\n",
    "        \n",
    "        model.fit(x_tr, y_tr)\n",
    "\n",
    "        oof_train[test_idx] = model.predict(x_te)\n",
    "        oof_test_skf[i, :] = model.predict(x_test)\n",
    "    \n",
    "    # version 1\n",
    "    # oof_test[:] = np.round(oof_test_skf.mean(axis=0))\n",
    "    \n",
    "    # version 2\n",
    "    oof_test[:] = pd.DataFrame(oof_test_skf).apply(lambda v: v.value_counts().idxmax(), axis=0)\n",
    "    \n",
    "    oof_train = [int(v) for v in oof_train]\n",
    "    oof_train = le.inverse_transform(oof_train)\n",
    "    \n",
    "    oof_test = [int(v) for v in oof_test]\n",
    "    oof_test = le.inverse_transform(oof_test)\n",
    "    \n",
    "    return oof_train.reshape(-1,1), oof_test.reshape(-1,1)"
   ]
  },
  {
   "cell_type": "markdown",
   "metadata": {},
   "source": [
    "## 데이터셋"
   ]
  },
  {
   "cell_type": "markdown",
   "metadata": {},
   "source": [
    "##### 트레인셋\n",
    "- train_activity_final_v2 (675, 656, 588, 583, 560, 519, 518, 467)\n",
    "- train_data (738, 744, 728, 700, 657, 654, 636, 482)\n",
    "- train_activity_296\n",
    "---\n",
    "##### 테스트셋\n",
    "- test_activity_final_v2 (675, 656, 588, 583, 560, 519, 518, 467)\n",
    "- test_data (738, 744, 728, 700, 657, 654, 636, 482)\n",
    "- test_activity_296"
   ]
  },
  {
   "cell_type": "code",
   "execution_count": 7,
   "metadata": {},
   "outputs": [],
   "source": [
    "#트레인셋 - 로드\n",
    "x_train_load_fin_v2 = pd.read_csv('C://Users//zeus_//Desktop//champion_data//train/train_activity_final_v2.csv').sort_values(by='acc_id', ascending=True)\n",
    "x_train_load_main = pd.read_csv('C://Users//zeus_//Desktop//champion_data//train/train_data.csv').sort_values(by='acc_id', ascending=True)\n",
    "x_train_load_296 = pd.read_csv('C://Users//zeus_//Desktop//champion_data//train/train_activity_296.csv').sort_values(by='acc_id', ascending=True)\n",
    "y_train_load = pd.read_csv('C://Users//zeus_//Desktop//champion_data//train/train_label.csv').sort_values(by='acc_id', ascending=True)"
   ]
  },
  {
   "cell_type": "code",
   "execution_count": 8,
   "metadata": {},
   "outputs": [],
   "source": [
    "#테스트셋 - 로드\n",
    "x_test_load_fin_v2 = pd.read_csv('C://Users//zeus_//Desktop//champion_data//test/test_activity_final_v2.csv').sort_values(by='acc_id', ascending=True)\n",
    "x_test_load_main = pd.read_csv('C://Users//zeus_//Desktop//champion_data//test/test_data.csv').sort_values(by='acc_id', ascending=True)\n",
    "x_test_load_296 = pd.read_csv('C://Users//zeus_//Desktop//champion_data//test/test_activity_296.csv').sort_values(by='acc_id', ascending=True)"
   ]
  },
  {
   "cell_type": "markdown",
   "metadata": {},
   "source": [
    "#### 공통피처만들기\n",
    "---"
   ]
  },
  {
   "cell_type": "code",
   "execution_count": 19,
   "metadata": {},
   "outputs": [],
   "source": [
    "#x_train_fin\n",
    "x_train_fin_default = x_train_load_fin_v2.drop(['acc_id'], axis=1)\n",
    "x_test_fin_default = x_test_load_fin_v2.drop(['acc_id'], axis=1)\n",
    "\n",
    "#x_train_main\n",
    "x_train_main_default = x_train_load_main.drop(['acc_id'], axis=1)\n",
    "x_test_main_default = x_test_load_main.drop(['acc_id'], axis=1)\n",
    "\n",
    "#x_train_296\n",
    "x_train_296 = x_train_load_296.drop(['acc_id'], axis=1)\n",
    "x_test_296 = x_test_load_296.drop(['acc_id'], axis=1)\n",
    "\n",
    "#y_train\n",
    "y_data = y_train_load.label"
   ]
  },
  {
   "cell_type": "markdown",
   "metadata": {},
   "source": [
    "- fin 피처"
   ]
  },
  {
   "cell_type": "code",
   "execution_count": 20,
   "metadata": {},
   "outputs": [],
   "source": [
    "feature_fin = RandomForestClassifier(n_estimators=100, random_state=42, n_jobs=-1, max_depth=30)\n",
    "feature_fin.fit(x_train_fin_default, y_data)\n",
    "feature_fin = select_important_feautre(x_train_fin_default.columns, feature_fin.feature_importances_, 677)"
   ]
  },
  {
   "cell_type": "markdown",
   "metadata": {},
   "source": [
    "- main 피처"
   ]
  },
  {
   "cell_type": "code",
   "execution_count": 21,
   "metadata": {},
   "outputs": [],
   "source": [
    "feature_main = RandomForestClassifier(n_estimators=100, random_state=42, n_jobs=-1, max_depth=30)\n",
    "feature_main.fit(x_train_main_default, y_data)\n",
    "feature_main = select_important_feautre(x_train_main_default.columns, feature_main.feature_importances_, 754)"
   ]
  },
  {
   "cell_type": "markdown",
   "metadata": {},
   "source": [
    "### 트레인셋\n",
    "---\n",
    "- fin train set"
   ]
  },
  {
   "cell_type": "code",
   "execution_count": 22,
   "metadata": {},
   "outputs": [],
   "source": [
    "x_train_fin_675 = x_train_fin_default.loc[:, feature_fin[0:675]]\n",
    "x_train_fin_656 = x_train_fin_default.loc[:, feature_fin[0:656]]\n",
    "x_train_fin_588 = x_train_fin_default.loc[:, feature_fin[0:588]]\n",
    "x_train_fin_583 = x_train_fin_default.loc[:, feature_fin[0:583]]\n",
    "x_train_fin_560 = x_train_fin_default.loc[:, feature_fin[0:560]]\n",
    "x_train_fin_519 = x_train_fin_default.loc[:, feature_fin[0:519]]\n",
    "x_train_fin_518 = x_train_fin_default.loc[:, feature_fin[0:518]]\n",
    "x_train_fin_467 = x_train_fin_default.loc[:, feature_fin[0:467]]"
   ]
  },
  {
   "cell_type": "markdown",
   "metadata": {},
   "source": [
    "- main train set"
   ]
  },
  {
   "cell_type": "code",
   "execution_count": 23,
   "metadata": {},
   "outputs": [],
   "source": [
    "x_train_main_738 = x_train_main_default.loc[:, feature_main[0:738]]\n",
    "x_train_main_744 = x_train_main_default.loc[:, feature_main[0:744]]\n",
    "x_train_main_728 = x_train_main_default.loc[:, feature_main[0:728]]\n",
    "x_train_main_700 = x_train_main_default.loc[:, feature_main[0:700]]\n",
    "x_train_main_657 = x_train_main_default.loc[:, feature_main[0:657]]\n",
    "x_train_main_654 = x_train_main_default.loc[:, feature_main[0:654]]\n",
    "x_train_main_636 = x_train_main_default.loc[:, feature_main[0:636]]\n",
    "x_train_main_482 = x_train_main_default.loc[:, feature_main[0:482]]"
   ]
  },
  {
   "cell_type": "markdown",
   "metadata": {},
   "source": [
    "### 테스트셋\n",
    "---\n",
    "- fin test set"
   ]
  },
  {
   "cell_type": "code",
   "execution_count": 24,
   "metadata": {},
   "outputs": [],
   "source": [
    "x_test_fin_675 = x_test_fin_default.loc[:, feature_fin[0:675]]\n",
    "x_test_fin_656 = x_test_fin_default.loc[:, feature_fin[0:656]]\n",
    "x_test_fin_588 = x_test_fin_default.loc[:, feature_fin[0:588]]\n",
    "x_test_fin_583 = x_test_fin_default.loc[:, feature_fin[0:583]]\n",
    "x_test_fin_560 = x_test_fin_default.loc[:, feature_fin[0:560]]\n",
    "x_test_fin_519 = x_test_fin_default.loc[:, feature_fin[0:519]]\n",
    "x_test_fin_518 = x_test_fin_default.loc[:, feature_fin[0:518]]\n",
    "x_test_fin_467 = x_test_fin_default.loc[:, feature_fin[0:467]]"
   ]
  },
  {
   "cell_type": "markdown",
   "metadata": {},
   "source": [
    "- main test set"
   ]
  },
  {
   "cell_type": "code",
   "execution_count": 25,
   "metadata": {},
   "outputs": [],
   "source": [
    "x_test_main_738 = x_test_main_default.loc[:, feature_main[0:738]]\n",
    "x_test_main_744 = x_test_main_default.loc[:, feature_main[0:744]]\n",
    "x_test_main_728 = x_test_main_default.loc[:, feature_main[0:728]]\n",
    "x_test_main_700 = x_test_main_default.loc[:, feature_main[0:700]]\n",
    "x_test_main_657 = x_test_main_default.loc[:, feature_main[0:657]]\n",
    "x_test_main_654 = x_test_main_default.loc[:, feature_main[0:654]]\n",
    "x_test_main_636 = x_test_main_default.loc[:, feature_main[0:636]]\n",
    "x_test_main_482 = x_test_main_default.loc[:, feature_main[0:482]]"
   ]
  },
  {
   "cell_type": "markdown",
   "metadata": {},
   "source": [
    "## 모델 - Level 1 & Level 2 Stacking\n",
    "---\n",
    "##### Level 1\n",
    "- RF, ET, GB, LGB, XGB\n",
    "- LLR, SMLR\n",
    "- SVM\n",
    "\n",
    "##### Level 2\n",
    "- RF or XGB"
   ]
  },
  {
   "cell_type": "code",
   "execution_count": 26,
   "metadata": {},
   "outputs": [],
   "source": [
    "#랜덤포레스트 16개\n",
    "rf_f1 = RandomForestClassifier(n_estimators=100, random_state=42, max_depth=28, n_jobs=-1)\n",
    "rf_f2 = RandomForestClassifier(n_estimators=100, random_state=42, max_depth=28, n_jobs=-1)\n",
    "rf_f3 = RandomForestClassifier(n_estimators=100, random_state=42, max_depth=28, n_jobs=-1)\n",
    "rf_f4 = RandomForestClassifier(n_estimators=100, random_state=42, max_depth=28, n_jobs=-1)\n",
    "rf_f5 = RandomForestClassifier(n_estimators=100, random_state=42, max_depth=28, n_jobs=-1)\n",
    "rf_f6 = RandomForestClassifier(n_estimators=100, random_state=42, max_depth=28, n_jobs=-1)\n",
    "rf_f7 = RandomForestClassifier(n_estimators=100, random_state=42, max_depth=28, n_jobs=-1)\n",
    "rf_f8 = RandomForestClassifier(n_estimators=100, random_state=42, max_depth=28, n_jobs=-1)\n",
    "rf_m1 = RandomForestClassifier(n_estimators=100, random_state=42, max_depth=28, n_jobs=-1)\n",
    "rf_m2 = RandomForestClassifier(n_estimators=100, random_state=42, max_depth=28, n_jobs=-1)\n",
    "rf_m3 = RandomForestClassifier(n_estimators=100, random_state=42, max_depth=28, n_jobs=-1)\n",
    "rf_m4 = RandomForestClassifier(n_estimators=100, random_state=42, max_depth=28, n_jobs=-1)\n",
    "rf_m5 = RandomForestClassifier(n_estimators=100, random_state=42, max_depth=28, n_jobs=-1)\n",
    "rf_m6 = RandomForestClassifier(n_estimators=100, random_state=42, max_depth=28, n_jobs=-1)\n",
    "rf_m7 = RandomForestClassifier(n_estimators=100, random_state=42, max_depth=28, n_jobs=-1)\n",
    "rf_m8 = RandomForestClassifier(n_estimators=100, random_state=42, max_depth=28, n_jobs=-1)"
   ]
  },
  {
   "cell_type": "code",
   "execution_count": 27,
   "metadata": {},
   "outputs": [],
   "source": [
    "#랜덤포레스트 2개\n",
    "rf_f = RandomForestClassifier(n_estimators=100, random_state=42, max_depth=30, n_jobs=-1)\n",
    "rf_m = RandomForestClassifier(n_estimators=100, random_state=42, max_depth=30, n_jobs=-1)"
   ]
  },
  {
   "cell_type": "code",
   "execution_count": 28,
   "metadata": {},
   "outputs": [],
   "source": [
    "#엑스트라트리 2개\n",
    "et_f = ExtraTreesClassifier(n_estimators=100, max_depth=20)\n",
    "et_m = ExtraTreesClassifier(n_estimators=100, max_depth=20)"
   ]
  },
  {
   "cell_type": "code",
   "execution_count": 29,
   "metadata": {},
   "outputs": [],
   "source": [
    "#그래디언트부팅팅 2개\n",
    "#GradientBoostingClassifier(learning_rate=0.1, max_depth=8, max_features=0.3, min_samples_leaf=20,n_estimators=50)\n",
    "gb_f = GradientBoostingClassifier(max_depth=1, learning_rate=0.1, max_features=30, n_estimators=100)\n",
    "gb_m = GradientBoostingClassifier(max_depth=1, learning_rate=0.1, max_features=30, n_estimators=100)"
   ]
  },
  {
   "cell_type": "code",
   "execution_count": 30,
   "metadata": {},
   "outputs": [],
   "source": [
    "#XGB 2개\n",
    "xgb_f = XGBClassifier(base_score=0.5, booster='gbtree', colsample_bylevel=1,\n",
    "       colsample_bytree=0.8, gamma=0.5, learning_rate=0.02,\n",
    "       max_delta_step=0,min_child_weight=20, max_depth=20,\n",
    "       missing=None,\n",
    "       n_estimators=1, n_jobs=-1, objective='multi:softprob',\n",
    "       random_state=0, reg_alpha=0, reg_lambda=1, scale_pos_weight=1,\n",
    "       seed=None, silent=True, subsample=0.8)\n",
    "\n",
    "xgb_m = XGBClassifier(base_score=0.5, booster='gbtree', colsample_bylevel=1,\n",
    "       colsample_bytree=0.8, gamma=0.5, learning_rate=0.02,\n",
    "       max_delta_step=0, max_depth=20, min_child_weight=20, missing=None,\n",
    "       n_estimators=1, n_jobs=-1, objective='multi:softprob',\n",
    "       random_state=0, reg_alpha=0, reg_lambda=1, scale_pos_weight=1,\n",
    "       seed=None, silent=True, subsample=0.8)"
   ]
  },
  {
   "cell_type": "code",
   "execution_count": 214,
   "metadata": {
    "collapsed": true
   },
   "outputs": [
    {
     "name": "stderr",
     "output_type": "stream",
     "text": [
      "c:\\python\\venv\\data_science\\lib\\site-packages\\lightgbm\\engine.py:102: UserWarning: Found `n_estimators` in params. Will use it instead of argument\n",
      "  warnings.warn(\"Found `{}` in params. Will use it instead of argument\".format(alias))\n"
     ]
    }
   ],
   "source": [
    "#LGB 2개\n",
    "\n",
    "data_f = lgb.Dataset(x_train_fin_default, label= le.transform(y_data),\n",
    "                            free_raw_data=False,\n",
    "                            feature_name=list(x_train_fin_default.columns),\n",
    "                            categorical_feature='auto')\n",
    "\n",
    "#grid탐색에서 나온 결과로 모델을 만들어 넣어준다.\n",
    "params={\"boosting_type\":'gbdt', \"colsample_bytree\":0.65,\n",
    "        \"learning_rate\":0.1,\"max_bin\":700, \"n_estimators\":100,\n",
    "        \"num_leaves\": 100, \"objective\":'multiclass',\n",
    "        \"random_state\": 501, \"reg_alpha\":1, \"reg_lambda\": 1,\n",
    "        \"subsample\":0.75, \"max_depth\": -1, \"nthread\": 3,\n",
    "        \"subsample_for_bim\":200, \"subsample_freq\":1,\"min_split_gain\":0.5,\n",
    "        \"min_child_weight\":1, \"min_child_samples\":5, \n",
    "        \"scale_pos_weight\":1, \"num_class\":4,'metric' : 'multi_logloss'}\n",
    "\n",
    "gbm= lgb.train(params, data_f,100000)  #일종의 fit하는 역할"
   ]
  },
  {
   "cell_type": "code",
   "execution_count": 31,
   "metadata": {},
   "outputs": [],
   "source": [
    "#로지스틱 회귀, 소프트맥스 회귀\n",
    "llr = LogisticRegression()\n",
    "smlr = LogisticRegression(multi_class=\"multinomial\", solver=\"lbfgs\", C = 10)"
   ]
  },
  {
   "cell_type": "code",
   "execution_count": 32,
   "metadata": {},
   "outputs": [],
   "source": [
    "#서포트벡터머신\n",
    "# svm = SVC(kernel='rbf', C=10, gamma=1)"
   ]
  },
  {
   "cell_type": "markdown",
   "metadata": {},
   "source": [
    "## 학습"
   ]
  },
  {
   "cell_type": "code",
   "execution_count": 33,
   "metadata": {
    "collapsed": true
   },
   "outputs": [
    {
     "name": "stderr",
     "output_type": "stream",
     "text": [
      "c:\\python\\venv\\data_science\\lib\\site-packages\\sklearn\\preprocessing\\label.py:151: DeprecationWarning: The truth value of an empty array is ambiguous. Returning False, but in future this will result in an error. Use `array.size > 0` to check that an array is not empty.\n",
      "  if diff:\n",
      "c:\\python\\venv\\data_science\\lib\\site-packages\\sklearn\\preprocessing\\label.py:151: DeprecationWarning: The truth value of an empty array is ambiguous. Returning False, but in future this will result in an error. Use `array.size > 0` to check that an array is not empty.\n",
      "  if diff:\n",
      "c:\\python\\venv\\data_science\\lib\\site-packages\\sklearn\\preprocessing\\label.py:151: DeprecationWarning: The truth value of an empty array is ambiguous. Returning False, but in future this will result in an error. Use `array.size > 0` to check that an array is not empty.\n",
      "  if diff:\n",
      "c:\\python\\venv\\data_science\\lib\\site-packages\\sklearn\\preprocessing\\label.py:151: DeprecationWarning: The truth value of an empty array is ambiguous. Returning False, but in future this will result in an error. Use `array.size > 0` to check that an array is not empty.\n",
      "  if diff:\n",
      "c:\\python\\venv\\data_science\\lib\\site-packages\\sklearn\\preprocessing\\label.py:151: DeprecationWarning: The truth value of an empty array is ambiguous. Returning False, but in future this will result in an error. Use `array.size > 0` to check that an array is not empty.\n",
      "  if diff:\n",
      "c:\\python\\venv\\data_science\\lib\\site-packages\\sklearn\\preprocessing\\label.py:151: DeprecationWarning: The truth value of an empty array is ambiguous. Returning False, but in future this will result in an error. Use `array.size > 0` to check that an array is not empty.\n",
      "  if diff:\n",
      "c:\\python\\venv\\data_science\\lib\\site-packages\\sklearn\\preprocessing\\label.py:151: DeprecationWarning: The truth value of an empty array is ambiguous. Returning False, but in future this will result in an error. Use `array.size > 0` to check that an array is not empty.\n",
      "  if diff:\n",
      "c:\\python\\venv\\data_science\\lib\\site-packages\\sklearn\\preprocessing\\label.py:151: DeprecationWarning: The truth value of an empty array is ambiguous. Returning False, but in future this will result in an error. Use `array.size > 0` to check that an array is not empty.\n",
      "  if diff:\n",
      "c:\\python\\venv\\data_science\\lib\\site-packages\\sklearn\\preprocessing\\label.py:151: DeprecationWarning: The truth value of an empty array is ambiguous. Returning False, but in future this will result in an error. Use `array.size > 0` to check that an array is not empty.\n",
      "  if diff:\n",
      "c:\\python\\venv\\data_science\\lib\\site-packages\\sklearn\\preprocessing\\label.py:151: DeprecationWarning: The truth value of an empty array is ambiguous. Returning False, but in future this will result in an error. Use `array.size > 0` to check that an array is not empty.\n",
      "  if diff:\n",
      "c:\\python\\venv\\data_science\\lib\\site-packages\\sklearn\\preprocessing\\label.py:151: DeprecationWarning: The truth value of an empty array is ambiguous. Returning False, but in future this will result in an error. Use `array.size > 0` to check that an array is not empty.\n",
      "  if diff:\n",
      "c:\\python\\venv\\data_science\\lib\\site-packages\\sklearn\\preprocessing\\label.py:151: DeprecationWarning: The truth value of an empty array is ambiguous. Returning False, but in future this will result in an error. Use `array.size > 0` to check that an array is not empty.\n",
      "  if diff:\n",
      "c:\\python\\venv\\data_science\\lib\\site-packages\\sklearn\\preprocessing\\label.py:151: DeprecationWarning: The truth value of an empty array is ambiguous. Returning False, but in future this will result in an error. Use `array.size > 0` to check that an array is not empty.\n",
      "  if diff:\n",
      "c:\\python\\venv\\data_science\\lib\\site-packages\\sklearn\\preprocessing\\label.py:151: DeprecationWarning: The truth value of an empty array is ambiguous. Returning False, but in future this will result in an error. Use `array.size > 0` to check that an array is not empty.\n",
      "  if diff:\n",
      "c:\\python\\venv\\data_science\\lib\\site-packages\\sklearn\\preprocessing\\label.py:151: DeprecationWarning: The truth value of an empty array is ambiguous. Returning False, but in future this will result in an error. Use `array.size > 0` to check that an array is not empty.\n",
      "  if diff:\n",
      "c:\\python\\venv\\data_science\\lib\\site-packages\\sklearn\\preprocessing\\label.py:151: DeprecationWarning: The truth value of an empty array is ambiguous. Returning False, but in future this will result in an error. Use `array.size > 0` to check that an array is not empty.\n",
      "  if diff:\n"
     ]
    }
   ],
   "source": [
    "oof_train_rf_f1, oof_test_rf_f1 = get_oof(rf_f1, x_train_fin_675, y_data, x_test_fin_675)\n",
    "oof_train_rf_f2, oof_test_rf_f2 = get_oof(rf_f2, x_train_fin_656, y_data, x_test_fin_656)\n",
    "oof_train_rf_f3, oof_test_rf_f3 = get_oof(rf_f3, x_train_fin_588, y_data, x_test_fin_588)\n",
    "oof_train_rf_f4, oof_test_rf_f4 = get_oof(rf_f4, x_train_fin_583, y_data, x_test_fin_583)\n",
    "oof_train_rf_f5, oof_test_rf_f5 = get_oof(rf_f5, x_train_fin_560, y_data, x_test_fin_560)\n",
    "oof_train_rf_f6, oof_test_rf_f6 = get_oof(rf_f6, x_train_fin_519, y_data, x_test_fin_519)\n",
    "oof_train_rf_f7, oof_test_rf_f7 = get_oof(rf_f7, x_train_fin_518, y_data, x_test_fin_518)\n",
    "oof_train_rf_f8, oof_test_rf_f8 = get_oof(rf_f8, x_train_fin_467, y_data, x_test_fin_467)"
   ]
  },
  {
   "cell_type": "code",
   "execution_count": 34,
   "metadata": {
    "collapsed": true
   },
   "outputs": [
    {
     "name": "stderr",
     "output_type": "stream",
     "text": [
      "c:\\python\\venv\\data_science\\lib\\site-packages\\sklearn\\preprocessing\\label.py:151: DeprecationWarning: The truth value of an empty array is ambiguous. Returning False, but in future this will result in an error. Use `array.size > 0` to check that an array is not empty.\n",
      "  if diff:\n",
      "c:\\python\\venv\\data_science\\lib\\site-packages\\sklearn\\preprocessing\\label.py:151: DeprecationWarning: The truth value of an empty array is ambiguous. Returning False, but in future this will result in an error. Use `array.size > 0` to check that an array is not empty.\n",
      "  if diff:\n",
      "c:\\python\\venv\\data_science\\lib\\site-packages\\sklearn\\preprocessing\\label.py:151: DeprecationWarning: The truth value of an empty array is ambiguous. Returning False, but in future this will result in an error. Use `array.size > 0` to check that an array is not empty.\n",
      "  if diff:\n",
      "c:\\python\\venv\\data_science\\lib\\site-packages\\sklearn\\preprocessing\\label.py:151: DeprecationWarning: The truth value of an empty array is ambiguous. Returning False, but in future this will result in an error. Use `array.size > 0` to check that an array is not empty.\n",
      "  if diff:\n",
      "c:\\python\\venv\\data_science\\lib\\site-packages\\sklearn\\preprocessing\\label.py:151: DeprecationWarning: The truth value of an empty array is ambiguous. Returning False, but in future this will result in an error. Use `array.size > 0` to check that an array is not empty.\n",
      "  if diff:\n",
      "c:\\python\\venv\\data_science\\lib\\site-packages\\sklearn\\preprocessing\\label.py:151: DeprecationWarning: The truth value of an empty array is ambiguous. Returning False, but in future this will result in an error. Use `array.size > 0` to check that an array is not empty.\n",
      "  if diff:\n",
      "c:\\python\\venv\\data_science\\lib\\site-packages\\sklearn\\preprocessing\\label.py:151: DeprecationWarning: The truth value of an empty array is ambiguous. Returning False, but in future this will result in an error. Use `array.size > 0` to check that an array is not empty.\n",
      "  if diff:\n",
      "c:\\python\\venv\\data_science\\lib\\site-packages\\sklearn\\preprocessing\\label.py:151: DeprecationWarning: The truth value of an empty array is ambiguous. Returning False, but in future this will result in an error. Use `array.size > 0` to check that an array is not empty.\n",
      "  if diff:\n",
      "c:\\python\\venv\\data_science\\lib\\site-packages\\sklearn\\preprocessing\\label.py:151: DeprecationWarning: The truth value of an empty array is ambiguous. Returning False, but in future this will result in an error. Use `array.size > 0` to check that an array is not empty.\n",
      "  if diff:\n",
      "c:\\python\\venv\\data_science\\lib\\site-packages\\sklearn\\preprocessing\\label.py:151: DeprecationWarning: The truth value of an empty array is ambiguous. Returning False, but in future this will result in an error. Use `array.size > 0` to check that an array is not empty.\n",
      "  if diff:\n",
      "c:\\python\\venv\\data_science\\lib\\site-packages\\sklearn\\preprocessing\\label.py:151: DeprecationWarning: The truth value of an empty array is ambiguous. Returning False, but in future this will result in an error. Use `array.size > 0` to check that an array is not empty.\n",
      "  if diff:\n",
      "c:\\python\\venv\\data_science\\lib\\site-packages\\sklearn\\preprocessing\\label.py:151: DeprecationWarning: The truth value of an empty array is ambiguous. Returning False, but in future this will result in an error. Use `array.size > 0` to check that an array is not empty.\n",
      "  if diff:\n",
      "c:\\python\\venv\\data_science\\lib\\site-packages\\sklearn\\preprocessing\\label.py:151: DeprecationWarning: The truth value of an empty array is ambiguous. Returning False, but in future this will result in an error. Use `array.size > 0` to check that an array is not empty.\n",
      "  if diff:\n",
      "c:\\python\\venv\\data_science\\lib\\site-packages\\sklearn\\preprocessing\\label.py:151: DeprecationWarning: The truth value of an empty array is ambiguous. Returning False, but in future this will result in an error. Use `array.size > 0` to check that an array is not empty.\n",
      "  if diff:\n",
      "c:\\python\\venv\\data_science\\lib\\site-packages\\sklearn\\preprocessing\\label.py:151: DeprecationWarning: The truth value of an empty array is ambiguous. Returning False, but in future this will result in an error. Use `array.size > 0` to check that an array is not empty.\n",
      "  if diff:\n",
      "c:\\python\\venv\\data_science\\lib\\site-packages\\sklearn\\preprocessing\\label.py:151: DeprecationWarning: The truth value of an empty array is ambiguous. Returning False, but in future this will result in an error. Use `array.size > 0` to check that an array is not empty.\n",
      "  if diff:\n"
     ]
    }
   ],
   "source": [
    "oof_train_rf_m1, oof_test_rf_m1 = get_oof(rf_m1, x_train_main_738, y_data, x_test_main_738)\n",
    "oof_train_rf_m2, oof_test_rf_m2 = get_oof(rf_m2, x_train_main_744, y_data, x_test_main_744)\n",
    "oof_train_rf_m3, oof_test_rf_m3 = get_oof(rf_m3, x_train_main_728, y_data, x_test_main_728)\n",
    "oof_train_rf_m4, oof_test_rf_m4 = get_oof(rf_m4, x_train_main_700, y_data, x_test_main_700)\n",
    "oof_train_rf_m5, oof_test_rf_m5 = get_oof(rf_m5, x_train_main_657, y_data, x_test_main_657)\n",
    "oof_train_rf_m6, oof_test_rf_m6 = get_oof(rf_m6, x_train_main_654, y_data, x_test_main_654)\n",
    "oof_train_rf_m7, oof_test_rf_m7 = get_oof(rf_m7, x_train_main_636, y_data, x_test_main_636)\n",
    "oof_train_rf_m8, oof_test_rf_m8 = get_oof(rf_m8, x_train_main_482, y_data, x_test_main_482)"
   ]
  },
  {
   "cell_type": "code",
   "execution_count": 35,
   "metadata": {
    "collapsed": true
   },
   "outputs": [
    {
     "name": "stderr",
     "output_type": "stream",
     "text": [
      "c:\\python\\venv\\data_science\\lib\\site-packages\\sklearn\\preprocessing\\label.py:151: DeprecationWarning: The truth value of an empty array is ambiguous. Returning False, but in future this will result in an error. Use `array.size > 0` to check that an array is not empty.\n",
      "  if diff:\n",
      "c:\\python\\venv\\data_science\\lib\\site-packages\\sklearn\\preprocessing\\label.py:151: DeprecationWarning: The truth value of an empty array is ambiguous. Returning False, but in future this will result in an error. Use `array.size > 0` to check that an array is not empty.\n",
      "  if diff:\n",
      "c:\\python\\venv\\data_science\\lib\\site-packages\\sklearn\\preprocessing\\label.py:151: DeprecationWarning: The truth value of an empty array is ambiguous. Returning False, but in future this will result in an error. Use `array.size > 0` to check that an array is not empty.\n",
      "  if diff:\n",
      "c:\\python\\venv\\data_science\\lib\\site-packages\\sklearn\\preprocessing\\label.py:151: DeprecationWarning: The truth value of an empty array is ambiguous. Returning False, but in future this will result in an error. Use `array.size > 0` to check that an array is not empty.\n",
      "  if diff:\n"
     ]
    }
   ],
   "source": [
    "oof_train_rf_f, oof_test_rf_f = get_oof(rf_f, x_train_fin_519, y_data, x_test_fin_519)\n",
    "oof_train_rf_m, oof_test_rf_m = get_oof(rf_m, x_train_main_482, y_data, x_test_main_482)"
   ]
  },
  {
   "cell_type": "code",
   "execution_count": 36,
   "metadata": {
    "collapsed": true
   },
   "outputs": [
    {
     "name": "stderr",
     "output_type": "stream",
     "text": [
      "c:\\python\\venv\\data_science\\lib\\site-packages\\sklearn\\preprocessing\\label.py:151: DeprecationWarning: The truth value of an empty array is ambiguous. Returning False, but in future this will result in an error. Use `array.size > 0` to check that an array is not empty.\n",
      "  if diff:\n",
      "c:\\python\\venv\\data_science\\lib\\site-packages\\sklearn\\preprocessing\\label.py:151: DeprecationWarning: The truth value of an empty array is ambiguous. Returning False, but in future this will result in an error. Use `array.size > 0` to check that an array is not empty.\n",
      "  if diff:\n",
      "c:\\python\\venv\\data_science\\lib\\site-packages\\sklearn\\preprocessing\\label.py:151: DeprecationWarning: The truth value of an empty array is ambiguous. Returning False, but in future this will result in an error. Use `array.size > 0` to check that an array is not empty.\n",
      "  if diff:\n",
      "c:\\python\\venv\\data_science\\lib\\site-packages\\sklearn\\preprocessing\\label.py:151: DeprecationWarning: The truth value of an empty array is ambiguous. Returning False, but in future this will result in an error. Use `array.size > 0` to check that an array is not empty.\n",
      "  if diff:\n"
     ]
    }
   ],
   "source": [
    "oof_train_et_f, oof_test_et_f = get_oof(et_f, x_train_fin_519, y_data, x_test_fin_519)\n",
    "oof_train_et_m, oof_test_et_m = get_oof(et_m, x_train_main_482, y_data, x_test_main_482)"
   ]
  },
  {
   "cell_type": "code",
   "execution_count": 37,
   "metadata": {
    "collapsed": true
   },
   "outputs": [
    {
     "name": "stderr",
     "output_type": "stream",
     "text": [
      "c:\\python\\venv\\data_science\\lib\\site-packages\\sklearn\\preprocessing\\label.py:151: DeprecationWarning: The truth value of an empty array is ambiguous. Returning False, but in future this will result in an error. Use `array.size > 0` to check that an array is not empty.\n",
      "  if diff:\n",
      "c:\\python\\venv\\data_science\\lib\\site-packages\\sklearn\\preprocessing\\label.py:151: DeprecationWarning: The truth value of an empty array is ambiguous. Returning False, but in future this will result in an error. Use `array.size > 0` to check that an array is not empty.\n",
      "  if diff:\n",
      "c:\\python\\venv\\data_science\\lib\\site-packages\\sklearn\\preprocessing\\label.py:151: DeprecationWarning: The truth value of an empty array is ambiguous. Returning False, but in future this will result in an error. Use `array.size > 0` to check that an array is not empty.\n",
      "  if diff:\n",
      "c:\\python\\venv\\data_science\\lib\\site-packages\\sklearn\\preprocessing\\label.py:151: DeprecationWarning: The truth value of an empty array is ambiguous. Returning False, but in future this will result in an error. Use `array.size > 0` to check that an array is not empty.\n",
      "  if diff:\n"
     ]
    }
   ],
   "source": [
    "oof_train_gb_f, oof_test_gb_f = get_oof(gb_f, x_train_fin_519, y_data, x_test_fin_519)\n",
    "oof_train_gb_m, oof_test_gb_m = get_oof(gb_m, x_train_main_482, y_data, x_test_main_482)"
   ]
  },
  {
   "cell_type": "code",
   "execution_count": 38,
   "metadata": {
    "collapsed": true
   },
   "outputs": [
    {
     "name": "stderr",
     "output_type": "stream",
     "text": [
      "c:\\python\\venv\\data_science\\lib\\site-packages\\sklearn\\preprocessing\\label.py:151: DeprecationWarning: The truth value of an empty array is ambiguous. Returning False, but in future this will result in an error. Use `array.size > 0` to check that an array is not empty.\n",
      "  if diff:\n",
      "c:\\python\\venv\\data_science\\lib\\site-packages\\sklearn\\preprocessing\\label.py:151: DeprecationWarning: The truth value of an empty array is ambiguous. Returning False, but in future this will result in an error. Use `array.size > 0` to check that an array is not empty.\n",
      "  if diff:\n",
      "c:\\python\\venv\\data_science\\lib\\site-packages\\sklearn\\preprocessing\\label.py:151: DeprecationWarning: The truth value of an empty array is ambiguous. Returning False, but in future this will result in an error. Use `array.size > 0` to check that an array is not empty.\n",
      "  if diff:\n",
      "c:\\python\\venv\\data_science\\lib\\site-packages\\sklearn\\preprocessing\\label.py:151: DeprecationWarning: The truth value of an empty array is ambiguous. Returning False, but in future this will result in an error. Use `array.size > 0` to check that an array is not empty.\n",
      "  if diff:\n",
      "c:\\python\\venv\\data_science\\lib\\site-packages\\sklearn\\preprocessing\\label.py:151: DeprecationWarning: The truth value of an empty array is ambiguous. Returning False, but in future this will result in an error. Use `array.size > 0` to check that an array is not empty.\n",
      "  if diff:\n",
      "c:\\python\\venv\\data_science\\lib\\site-packages\\sklearn\\preprocessing\\label.py:151: DeprecationWarning: The truth value of an empty array is ambiguous. Returning False, but in future this will result in an error. Use `array.size > 0` to check that an array is not empty.\n",
      "  if diff:\n",
      "c:\\python\\venv\\data_science\\lib\\site-packages\\sklearn\\preprocessing\\label.py:151: DeprecationWarning: The truth value of an empty array is ambiguous. Returning False, but in future this will result in an error. Use `array.size > 0` to check that an array is not empty.\n",
      "  if diff:\n",
      "c:\\python\\venv\\data_science\\lib\\site-packages\\sklearn\\preprocessing\\label.py:151: DeprecationWarning: The truth value of an empty array is ambiguous. Returning False, but in future this will result in an error. Use `array.size > 0` to check that an array is not empty.\n",
      "  if diff:\n",
      "c:\\python\\venv\\data_science\\lib\\site-packages\\sklearn\\preprocessing\\label.py:151: DeprecationWarning: The truth value of an empty array is ambiguous. Returning False, but in future this will result in an error. Use `array.size > 0` to check that an array is not empty.\n",
      "  if diff:\n",
      "c:\\python\\venv\\data_science\\lib\\site-packages\\sklearn\\preprocessing\\label.py:151: DeprecationWarning: The truth value of an empty array is ambiguous. Returning False, but in future this will result in an error. Use `array.size > 0` to check that an array is not empty.\n",
      "  if diff:\n",
      "c:\\python\\venv\\data_science\\lib\\site-packages\\sklearn\\preprocessing\\label.py:151: DeprecationWarning: The truth value of an empty array is ambiguous. Returning False, but in future this will result in an error. Use `array.size > 0` to check that an array is not empty.\n",
      "  if diff:\n",
      "c:\\python\\venv\\data_science\\lib\\site-packages\\sklearn\\preprocessing\\label.py:151: DeprecationWarning: The truth value of an empty array is ambiguous. Returning False, but in future this will result in an error. Use `array.size > 0` to check that an array is not empty.\n",
      "  if diff:\n",
      "c:\\python\\venv\\data_science\\lib\\site-packages\\sklearn\\preprocessing\\label.py:151: DeprecationWarning: The truth value of an empty array is ambiguous. Returning False, but in future this will result in an error. Use `array.size > 0` to check that an array is not empty.\n",
      "  if diff:\n",
      "c:\\python\\venv\\data_science\\lib\\site-packages\\sklearn\\preprocessing\\label.py:151: DeprecationWarning: The truth value of an empty array is ambiguous. Returning False, but in future this will result in an error. Use `array.size > 0` to check that an array is not empty.\n",
      "  if diff:\n",
      "c:\\python\\venv\\data_science\\lib\\site-packages\\sklearn\\preprocessing\\label.py:151: DeprecationWarning: The truth value of an empty array is ambiguous. Returning False, but in future this will result in an error. Use `array.size > 0` to check that an array is not empty.\n",
      "  if diff:\n",
      "c:\\python\\venv\\data_science\\lib\\site-packages\\sklearn\\preprocessing\\label.py:151: DeprecationWarning: The truth value of an empty array is ambiguous. Returning False, but in future this will result in an error. Use `array.size > 0` to check that an array is not empty.\n",
      "  if diff:\n",
      "c:\\python\\venv\\data_science\\lib\\site-packages\\sklearn\\preprocessing\\label.py:151: DeprecationWarning: The truth value of an empty array is ambiguous. Returning False, but in future this will result in an error. Use `array.size > 0` to check that an array is not empty.\n",
      "  if diff:\n",
      "c:\\python\\venv\\data_science\\lib\\site-packages\\sklearn\\preprocessing\\label.py:151: DeprecationWarning: The truth value of an empty array is ambiguous. Returning False, but in future this will result in an error. Use `array.size > 0` to check that an array is not empty.\n",
      "  if diff:\n",
      "c:\\python\\venv\\data_science\\lib\\site-packages\\sklearn\\preprocessing\\label.py:151: DeprecationWarning: The truth value of an empty array is ambiguous. Returning False, but in future this will result in an error. Use `array.size > 0` to check that an array is not empty.\n",
      "  if diff:\n",
      "c:\\python\\venv\\data_science\\lib\\site-packages\\sklearn\\preprocessing\\label.py:151: DeprecationWarning: The truth value of an empty array is ambiguous. Returning False, but in future this will result in an error. Use `array.size > 0` to check that an array is not empty.\n",
      "  if diff:\n",
      "c:\\python\\venv\\data_science\\lib\\site-packages\\sklearn\\preprocessing\\label.py:151: DeprecationWarning: The truth value of an empty array is ambiguous. Returning False, but in future this will result in an error. Use `array.size > 0` to check that an array is not empty.\n",
      "  if diff:\n",
      "c:\\python\\venv\\data_science\\lib\\site-packages\\sklearn\\preprocessing\\label.py:151: DeprecationWarning: The truth value of an empty array is ambiguous. Returning False, but in future this will result in an error. Use `array.size > 0` to check that an array is not empty.\n",
      "  if diff:\n",
      "c:\\python\\venv\\data_science\\lib\\site-packages\\sklearn\\preprocessing\\label.py:151: DeprecationWarning: The truth value of an empty array is ambiguous. Returning False, but in future this will result in an error. Use `array.size > 0` to check that an array is not empty.\n",
      "  if diff:\n",
      "c:\\python\\venv\\data_science\\lib\\site-packages\\sklearn\\preprocessing\\label.py:151: DeprecationWarning: The truth value of an empty array is ambiguous. Returning False, but in future this will result in an error. Use `array.size > 0` to check that an array is not empty.\n",
      "  if diff:\n"
     ]
    }
   ],
   "source": [
    "oof_train_xgb_f, oof_test_xgb_f = get_oof(xgb_f, x_train_fin_519, y_data, x_test_fin_519)\n",
    "oof_train_xgb_m, oof_test_xgb_m = get_oof(xgb_m, x_train_main_482, y_data, x_test_main_482)"
   ]
  },
  {
   "cell_type": "code",
   "execution_count": 39,
   "metadata": {
    "collapsed": true
   },
   "outputs": [
    {
     "name": "stderr",
     "output_type": "stream",
     "text": [
      "c:\\python\\venv\\data_science\\lib\\site-packages\\sklearn\\preprocessing\\label.py:151: DeprecationWarning: The truth value of an empty array is ambiguous. Returning False, but in future this will result in an error. Use `array.size > 0` to check that an array is not empty.\n",
      "  if diff:\n",
      "c:\\python\\venv\\data_science\\lib\\site-packages\\sklearn\\preprocessing\\label.py:151: DeprecationWarning: The truth value of an empty array is ambiguous. Returning False, but in future this will result in an error. Use `array.size > 0` to check that an array is not empty.\n",
      "  if diff:\n",
      "c:\\python\\venv\\data_science\\lib\\site-packages\\sklearn\\preprocessing\\label.py:151: DeprecationWarning: The truth value of an empty array is ambiguous. Returning False, but in future this will result in an error. Use `array.size > 0` to check that an array is not empty.\n",
      "  if diff:\n",
      "c:\\python\\venv\\data_science\\lib\\site-packages\\sklearn\\preprocessing\\label.py:151: DeprecationWarning: The truth value of an empty array is ambiguous. Returning False, but in future this will result in an error. Use `array.size > 0` to check that an array is not empty.\n",
      "  if diff:\n"
     ]
    }
   ],
   "source": [
    "oof_train_llr, oof_test_llr = get_oof(llr, x_train_296, y_data, x_test_296)\n",
    "oof_train_smlr, oof_test_smlr = get_oof(smlr, x_train_296, y_data, x_test_296)"
   ]
  },
  {
   "cell_type": "code",
   "execution_count": 40,
   "metadata": {},
   "outputs": [],
   "source": [
    "# oof_train_rf_svm = get_oof(svm, x_train_296, y_data)"
   ]
  },
  {
   "cell_type": "code",
   "execution_count": 315,
   "metadata": {},
   "outputs": [],
   "source": [
    "x_train = np.concatenate((oof_train_rf_f1, oof_train_rf_f2, oof_train_rf_f3, oof_train_rf_f4, oof_train_rf_f5, oof_train_rf_f6, oof_train_rf_f7, oof_train_rf_f8, oof_train_rf_m1, oof_train_rf_m2, oof_train_rf_m3, oof_train_rf_m4, oof_train_rf_m5, oof_train_rf_m6, oof_train_rf_m7, oof_train_rf_m8, oof_train_rf_f, oof_train_rf_m, oof_train_et_f, oof_train_et_m, oof_train_gb_f, oof_train_gb_m, oof_train_xgb_f, oof_train_xgb_m, oof_train_llr, oof_train_smlr), axis=1)\n",
    "x_train = pd.DataFrame(x_train)\n",
    "\n",
    "x_test = np.concatenate((oof_test_rf_f1, oof_test_rf_f2, oof_test_rf_f3, oof_test_rf_f4, oof_test_rf_f5, oof_test_rf_f6, oof_test_rf_f7, oof_test_rf_f8, oof_test_rf_m1, oof_test_rf_m2, oof_test_rf_m3, oof_test_rf_m4, oof_test_rf_m5, oof_test_rf_m6, oof_test_rf_m7, oof_test_rf_m8, oof_test_rf_f, oof_test_rf_m, oof_test_et_f, oof_test_et_m, oof_test_gb_f, oof_test_gb_m, oof_test_xgb_f, oof_test_xgb_m, oof_test_llr, oof_test_smlr), axis=1)\n",
    "x_test = pd.DataFrame(x_test)"
   ]
  },
  {
   "cell_type": "code",
   "execution_count": 316,
   "metadata": {},
   "outputs": [],
   "source": [
    "x_train.columns = ['rf_f1', 'rf_f2', 'rf_f3', 'rf_f4', 'rf_f5', 'rf_f6', 'rf_f7', 'rf_f8', 'rf_m1', 'rf_m2', 'rf_m3', 'rf_m4', 'rf_m5', 'rf_m6', 'rf_m7', 'rf_m8', 'rf_f', 'rf_m', 'et_f', 'et_m', 'gb_f', 'gb_m', 'xgb_f', 'xgb_m', 'llr', 'smlr']\n",
    "x_test.columns = ['rf_f1', 'rf_f2', 'rf_f3', 'rf_f4', 'rf_f5', 'rf_f6', 'rf_f7', 'rf_f8', 'rf_m1', 'rf_m2', 'rf_m3', 'rf_m4', 'rf_m5', 'rf_m6', 'rf_m7', 'rf_m8', 'rf_f', 'rf_m', 'et_f', 'et_m', 'gb_f', 'gb_m', 'xgb_f', 'xgb_m', 'llr', 'smlr']"
   ]
  },
  {
   "cell_type": "markdown",
   "metadata": {},
   "source": [
    "## LAYER 2"
   ]
  },
  {
   "cell_type": "code",
   "execution_count": 317,
   "metadata": {},
   "outputs": [
    {
     "data": {
      "text/plain": [
       "LabelEncoder()"
      ]
     },
     "execution_count": 317,
     "metadata": {},
     "output_type": "execute_result"
    }
   ],
   "source": [
    "le = LabelEncoder()\n",
    "le.fit(x_train.rf_f1)"
   ]
  },
  {
   "cell_type": "code",
   "execution_count": 318,
   "metadata": {},
   "outputs": [],
   "source": [
    "for v in x_train.columns:\n",
    "    x_train[v] = le.transform(x_train[v])\n",
    "    x_test[v] = le.transform(x_test[v])"
   ]
  },
  {
   "cell_type": "markdown",
   "metadata": {},
   "source": [
    "### rf"
   ]
  },
  {
   "cell_type": "code",
   "execution_count": 331,
   "metadata": {},
   "outputs": [],
   "source": [
    "rf_t = RandomForestClassifier(n_estimators=175, random_state=3, max_depth=5, n_jobs=-1)"
   ]
  },
  {
   "cell_type": "code",
   "execution_count": 332,
   "metadata": {},
   "outputs": [
    {
     "data": {
      "text/plain": [
       "RandomForestClassifier(bootstrap=True, class_weight=None, criterion='gini',\n",
       "            max_depth=5, max_features='auto', max_leaf_nodes=None,\n",
       "            min_impurity_decrease=0.0, min_impurity_split=None,\n",
       "            min_samples_leaf=1, min_samples_split=2,\n",
       "            min_weight_fraction_leaf=0.0, n_estimators=175, n_jobs=-1,\n",
       "            oob_score=False, random_state=3, verbose=0, warm_start=False)"
      ]
     },
     "execution_count": 332,
     "metadata": {},
     "output_type": "execute_result"
    }
   ],
   "source": [
    "rf_t.fit(x_train, y_data)"
   ]
  },
  {
   "cell_type": "code",
   "execution_count": 339,
   "metadata": {},
   "outputs": [],
   "source": [
    "acc_id = x_test_load_296.acc_id.values"
   ]
  },
  {
   "cell_type": "code",
   "execution_count": 340,
   "metadata": {},
   "outputs": [],
   "source": [
    "result = rf_t.predict(x_test)"
   ]
  },
  {
   "cell_type": "code",
   "execution_count": 344,
   "metadata": {},
   "outputs": [],
   "source": [
    "finish = pd.DataFrame({'acc_id' : acc_id, 'result' : result})"
   ]
  },
  {
   "cell_type": "code",
   "execution_count": 348,
   "metadata": {},
   "outputs": [],
   "source": [
    "finish.index = finish.acc_id"
   ]
  },
  {
   "cell_type": "code",
   "execution_count": 350,
   "metadata": {},
   "outputs": [],
   "source": [
    "finish = finish.drop(['acc_id'], axis=1)"
   ]
  },
  {
   "cell_type": "code",
   "execution_count": 352,
   "metadata": {},
   "outputs": [],
   "source": [
    "finish.to_csv('C:\\\\Users\\\\zeus_\\\\Desktop\\\\champion_data\\\\test\\\\result\\\\finish.csv')"
   ]
  }
 ],
 "metadata": {
  "kernelspec": {
   "display_name": "Python 3",
   "language": "python",
   "name": "python3"
  },
  "language_info": {
   "codemirror_mode": {
    "name": "ipython",
    "version": 3
   },
   "file_extension": ".py",
   "mimetype": "text/x-python",
   "name": "python",
   "nbconvert_exporter": "python",
   "pygments_lexer": "ipython3",
   "version": "3.6.3"
  }
 },
 "nbformat": 4,
 "nbformat_minor": 2
}
