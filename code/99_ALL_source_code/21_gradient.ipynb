{
 "cells": [
  {
   "cell_type": "code",
   "execution_count": 1,
   "metadata": {},
   "outputs": [],
   "source": [
    "san <- read.csv('C:\\\\Users\\\\zeus_\\\\OneDrive\\\\all\\\\train.csv')"
   ]
  },
  {
   "cell_type": "code",
   "execution_count": 2,
   "metadata": {},
   "outputs": [],
   "source": [
    "san$ID <- NULL"
   ]
  },
  {
   "cell_type": "code",
   "execution_count": 3,
   "metadata": {},
   "outputs": [],
   "source": [
    "san$target <- log(san$target + 1)"
   ]
  },
  {
   "cell_type": "code",
   "execution_count": 4,
   "metadata": {},
   "outputs": [],
   "source": [
    "#표준편차 수집\n",
    "col_sd <- apply(san, 2, sd)"
   ]
  },
  {
   "cell_type": "code",
   "execution_count": 5,
   "metadata": {},
   "outputs": [],
   "source": [
    "#특이성이 큰 컬럼 제거\n",
    "san <- cbind(target = san$target,san[, !(col_sd < 10)])"
   ]
  },
  {
   "cell_type": "code",
   "execution_count": 13,
   "metadata": {},
   "outputs": [],
   "source": [
    "#스케일링\n",
    "san <- data.frame(target=san[,1],scale(san[,-1]))"
   ]
  },
  {
   "cell_type": "code",
   "execution_count": 15,
   "metadata": {},
   "outputs": [],
   "source": [
    "#시드값 고정\n",
    "set.seed(123)"
   ]
  },
  {
   "cell_type": "markdown",
   "metadata": {},
   "source": [
    "## 트레인셋"
   ]
  },
  {
   "cell_type": "code",
   "execution_count": 17,
   "metadata": {},
   "outputs": [],
   "source": [
    "#트레인 데이터 셋\n",
    "train <- sample(1:nrow(san), 0.8 * nrow(san))"
   ]
  },
  {
   "cell_type": "code",
   "execution_count": 18,
   "metadata": {},
   "outputs": [],
   "source": [
    "#실제 값\n",
    "real <- san$target[-train]"
   ]
  },
  {
   "cell_type": "markdown",
   "metadata": {},
   "source": [
    "## 레인저 모델"
   ]
  },
  {
   "cell_type": "code",
   "execution_count": 69,
   "metadata": {},
   "outputs": [],
   "source": [
    "#레인저모델\n",
    "library(ranger)"
   ]
  },
  {
   "cell_type": "code",
   "execution_count": 70,
   "metadata": {},
   "outputs": [
    {
     "name": "stdout",
     "output_type": "stream",
     "text": [
      "Growing trees.. Progress: 64%. Estimated remaining time: 17 seconds.\n"
     ]
    }
   ],
   "source": [
    "Model_ranger <- ranger(target~., \n",
    "                data = san[train, ],\n",
    "                mtry=200,\n",
    "                importance='impurity')"
   ]
  },
  {
   "cell_type": "code",
   "execution_count": 71,
   "metadata": {},
   "outputs": [],
   "source": [
    "pred_ranger <- predict(Model_ranger, san[-train, ])$predictions"
   ]
  },
  {
   "cell_type": "code",
   "execution_count": 72,
   "metadata": {},
   "outputs": [],
   "source": [
    "val_error_ranger <- sqrt(mean((real - pred_ranger)^2))"
   ]
  },
  {
   "cell_type": "code",
   "execution_count": 74,
   "metadata": {},
   "outputs": [
    {
     "data": {
      "text/html": [
       "1.46433880463065"
      ],
      "text/latex": [
       "1.46433880463065"
      ],
      "text/markdown": [
       "1.46433880463065"
      ],
      "text/plain": [
       "[1] 1.464339"
      ]
     },
     "metadata": {},
     "output_type": "display_data"
    }
   ],
   "source": [
    "val_error_ranger"
   ]
  },
  {
   "cell_type": "code",
   "execution_count": 92,
   "metadata": {},
   "outputs": [],
   "source": [
    "fit_ranger <- predict(Model_ranger, san[train, ])$predictions"
   ]
  },
  {
   "cell_type": "markdown",
   "metadata": {},
   "source": [
    "## 선형 모델"
   ]
  },
  {
   "cell_type": "code",
   "execution_count": 57,
   "metadata": {},
   "outputs": [],
   "source": [
    "#선형모델\n",
    "library(glmnetUtils)"
   ]
  },
  {
   "cell_type": "code",
   "execution_count": 77,
   "metadata": {},
   "outputs": [],
   "source": [
    "Model_lm <- glmnet(target~., data=san[train,], lambda=0.05, alpha = 1)"
   ]
  },
  {
   "cell_type": "code",
   "execution_count": 78,
   "metadata": {
    "scrolled": true
   },
   "outputs": [],
   "source": [
    "pred_lm <- predict(Model_lm, san[-train, ])"
   ]
  },
  {
   "cell_type": "code",
   "execution_count": 79,
   "metadata": {},
   "outputs": [],
   "source": [
    "val_error_lm <- sqrt(mean((real - pred_lm)^2))"
   ]
  },
  {
   "cell_type": "code",
   "execution_count": 80,
   "metadata": {},
   "outputs": [
    {
     "data": {
      "text/html": [
       "1.7120244585294"
      ],
      "text/latex": [
       "1.7120244585294"
      ],
      "text/markdown": [
       "1.7120244585294"
      ],
      "text/plain": [
       "[1] 1.712024"
      ]
     },
     "metadata": {},
     "output_type": "display_data"
    }
   ],
   "source": [
    "val_error_lm"
   ]
  },
  {
   "cell_type": "code",
   "execution_count": 93,
   "metadata": {},
   "outputs": [],
   "source": [
    "fit_lm <- predict(Model_lm, san[train, ])"
   ]
  },
  {
   "cell_type": "markdown",
   "metadata": {},
   "source": [
    "## 트리모델"
   ]
  },
  {
   "cell_type": "code",
   "execution_count": 83,
   "metadata": {},
   "outputs": [],
   "source": [
    "#선형모델\n",
    "library(tree)"
   ]
  },
  {
   "cell_type": "code",
   "execution_count": 84,
   "metadata": {},
   "outputs": [],
   "source": [
    "Model_tree <- tree(target~., data=san[train,])"
   ]
  },
  {
   "cell_type": "code",
   "execution_count": 85,
   "metadata": {
    "scrolled": true
   },
   "outputs": [],
   "source": [
    "pred_tree <- predict(Model_tree, san[-train, ])"
   ]
  },
  {
   "cell_type": "code",
   "execution_count": 86,
   "metadata": {},
   "outputs": [],
   "source": [
    "val_error_tree <- sqrt(mean((real - pred_tree)^2))"
   ]
  },
  {
   "cell_type": "code",
   "execution_count": 87,
   "metadata": {},
   "outputs": [
    {
     "data": {
      "text/html": [
       "1.69595726805703"
      ],
      "text/latex": [
       "1.69595726805703"
      ],
      "text/markdown": [
       "1.69595726805703"
      ],
      "text/plain": [
       "[1] 1.695957"
      ]
     },
     "metadata": {},
     "output_type": "display_data"
    }
   ],
   "source": [
    "val_error_tree"
   ]
  },
  {
   "cell_type": "code",
   "execution_count": 94,
   "metadata": {},
   "outputs": [],
   "source": [
    "fit_tree <- predict(Model_tree, san[train, ])"
   ]
  },
  {
   "cell_type": "markdown",
   "metadata": {},
   "source": [
    "---"
   ]
  },
  {
   "cell_type": "code",
   "execution_count": 95,
   "metadata": {},
   "outputs": [],
   "source": [
    "real_train <- san$target[train]"
   ]
  },
  {
   "cell_type": "code",
   "execution_count": 96,
   "metadata": {},
   "outputs": [],
   "source": [
    "Meta_model <- lm(real_train ~ fit_ranger + fit_lm + fit_tree)"
   ]
  },
  {
   "cell_type": "code",
   "execution_count": 98,
   "metadata": {},
   "outputs": [
    {
     "data": {
      "text/html": [
       "<dl class=dl-horizontal>\n",
       "\t<dt>(Intercept)</dt>\n",
       "\t\t<dd>-0.0969287872254861</dd>\n",
       "\t<dt>fit_ranger</dt>\n",
       "\t\t<dd>1.45828330857759</dd>\n",
       "\t<dt>fit_lm</dt>\n",
       "\t\t<dd>-0.222794119324267</dd>\n",
       "\t<dt>fit_tree</dt>\n",
       "\t\t<dd>-0.227260449623352</dd>\n",
       "</dl>\n"
      ],
      "text/latex": [
       "\\begin{description*}\n",
       "\\item[(Intercept)] -0.0969287872254861\n",
       "\\item[fit\\textbackslash{}\\_ranger] 1.45828330857759\n",
       "\\item[fit\\textbackslash{}\\_lm] -0.222794119324267\n",
       "\\item[fit\\textbackslash{}\\_tree] -0.227260449623352\n",
       "\\end{description*}\n"
      ],
      "text/markdown": [
       "(Intercept)\n",
       ":   -0.0969287872254861fit_ranger\n",
       ":   1.45828330857759fit_lm\n",
       ":   -0.222794119324267fit_tree\n",
       ":   -0.227260449623352\n",
       "\n"
      ],
      "text/plain": [
       "(Intercept)  fit_ranger      fit_lm    fit_tree \n",
       "-0.09692879  1.45828331 -0.22279412 -0.22726045 "
      ]
     },
     "metadata": {},
     "output_type": "display_data"
    }
   ],
   "source": [
    "coef(Meta_model)"
   ]
  },
  {
   "cell_type": "code",
   "execution_count": 100,
   "metadata": {},
   "outputs": [],
   "source": [
    "pred_final <- -0.0969287872254861 + 1.45828330857759 * pred_ranger -0.222794119324267 * pred_lm -0.227260449623352 * pred_tree"
   ]
  },
  {
   "cell_type": "code",
   "execution_count": 101,
   "metadata": {},
   "outputs": [
    {
     "data": {
      "text/html": [
       "1.46222558601843"
      ],
      "text/latex": [
       "1.46222558601843"
      ],
      "text/markdown": [
       "1.46222558601843"
      ],
      "text/plain": [
       "[1] 1.462226"
      ]
     },
     "metadata": {},
     "output_type": "display_data"
    }
   ],
   "source": [
    "sqrt(mean((real - pred_final)^2))"
   ]
  },
  {
   "cell_type": "code",
   "execution_count": 99,
   "metadata": {},
   "outputs": [
    {
     "data": {
      "image/png": "[encoded data removed]",
      "text/plain": [
       "plot without title"
      ]
     },
     "metadata": {},
     "output_type": "display_data"
    }
   ],
   "source": [
    "plot(fit_ranger, fit_lm)"
   ]
  },
  {
   "cell_type": "code",
   "execution_count": null,
   "metadata": {},
   "outputs": [],
   "source": [
    "pred_final <- -"
   ]
  },
  {
   "cell_type": "code",
   "execution_count": 90,
   "metadata": {},
   "outputs": [],
   "source": [
    "pred_ensemble_lm_tree <- (a_1 * pred_tree + a_2 * pred_lm)/(a_1 + a_2)"
   ]
  },
  {
   "cell_type": "code",
   "execution_count": 91,
   "metadata": {},
   "outputs": [
    {
     "data": {
      "text/html": [
       "1.67027092522109"
      ],
      "text/latex": [
       "1.67027092522109"
      ],
      "text/markdown": [
       "1.67027092522109"
      ],
      "text/plain": [
       "[1] 1.670271"
      ]
     },
     "metadata": {},
     "output_type": "display_data"
    }
   ],
   "source": [
    "sqrt(mean((real - pred_ensemble_lm_tree)^2))"
   ]
  },
  {
   "cell_type": "code",
   "execution_count": null,
   "metadata": {},
   "outputs": [],
   "source": []
  }
 ],
 "metadata": {
  "kernelspec": {
   "display_name": "R",
   "language": "R",
   "name": "ir"
  },
  "language_info": {
   "codemirror_mode": "r",
   "file_extension": ".r",
   "mimetype": "text/x-r-source",
   "name": "R",
   "pygments_lexer": "r",
   "version": "3.5.1"
  }
 },
 "nbformat": 4,
 "nbformat_minor": 2
}
